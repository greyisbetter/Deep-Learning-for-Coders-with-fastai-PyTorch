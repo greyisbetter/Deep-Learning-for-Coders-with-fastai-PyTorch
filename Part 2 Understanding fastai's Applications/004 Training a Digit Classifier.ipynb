{
 "cells": [
  {
   "cell_type": "markdown",
   "metadata": {},
   "source": [
    "What we get from this chapter\n",
    "\n",
    "- roles of:\n",
    "    - array\n",
    "    - tensors\n",
    "    - broadcasting\n",
    "- Stochastic Gradient Descent: the mechanism for learning by updating weights automatically.\n",
    "- The choice of a loss function for basic classification task\n",
    "- The role of minibatches\n",
    "- The math that a basic neural network is doing."
   ]
  },
  {
   "cell_type": "markdown",
   "metadata": {},
   "source": [
    "## Pixels: The Foundations of Computer Vision"
   ]
  },
  {
   "cell_type": "code",
   "execution_count": 1,
   "metadata": {},
   "outputs": [],
   "source": [
    "from fastai.vision.all import *"
   ]
  },
  {
   "cell_type": "code",
   "execution_count": 2,
   "metadata": {},
   "outputs": [],
   "source": [
    "# download a sample of MNIST\n",
    "path = untar_data(URLs.MNIST_SAMPLE)"
   ]
  },
  {
   "cell_type": "code",
   "execution_count": 3,
   "metadata": {},
   "outputs": [
    {
     "data": {
      "text/plain": [
       "(#3) [Path('C:/Users/Kushan/.fastai/data/mnist_sample/labels.csv'),Path('C:/Users/Kushan/.fastai/data/mnist_sample/train'),Path('C:/Users/Kushan/.fastai/data/mnist_sample/valid')]"
      ]
     },
     "execution_count": 3,
     "metadata": {},
     "output_type": "execute_result"
    }
   ],
   "source": [
    "# checking directory\n",
    "path.ls() # this method returns an object of a special fastai class called L"
   ]
  },
  {
   "cell_type": "code",
   "execution_count": 4,
   "metadata": {},
   "outputs": [
    {
     "data": {
      "text/plain": [
       "(#2) [Path('C:/Users/Kushan/.fastai/data/mnist_sample/train/3'),Path('C:/Users/Kushan/.fastai/data/mnist_sample/train/7')]"
      ]
     },
     "execution_count": 4,
     "metadata": {},
     "output_type": "execute_result"
    }
   ],
   "source": [
    "# look inside training set\n",
    "(path/'train').ls()"
   ]
  },
  {
   "cell_type": "code",
   "execution_count": 5,
   "metadata": {},
   "outputs": [
    {
     "data": {
      "text/plain": [
       "(#6131) [Path('C:/Users/Kushan/.fastai/data/mnist_sample/train/3/10.png'),Path('C:/Users/Kushan/.fastai/data/mnist_sample/train/3/10000.png'),Path('C:/Users/Kushan/.fastai/data/mnist_sample/train/3/10011.png'),Path('C:/Users/Kushan/.fastai/data/mnist_sample/train/3/10031.png'),Path('C:/Users/Kushan/.fastai/data/mnist_sample/train/3/10034.png'),Path('C:/Users/Kushan/.fastai/data/mnist_sample/train/3/10042.png'),Path('C:/Users/Kushan/.fastai/data/mnist_sample/train/3/10052.png'),Path('C:/Users/Kushan/.fastai/data/mnist_sample/train/3/1007.png'),Path('C:/Users/Kushan/.fastai/data/mnist_sample/train/3/10074.png'),Path('C:/Users/Kushan/.fastai/data/mnist_sample/train/3/10091.png')...]"
      ]
     },
     "execution_count": 5,
     "metadata": {},
     "output_type": "execute_result"
    }
   ],
   "source": [
    "# look inside 3s and 7s(labels/targets)\n",
    "threes = (path/'train'/'3').ls().sorted()\n",
    "sevens = (path/'train'/'7').ls().sorted()\n",
    "threes"
   ]
  },
  {
   "cell_type": "code",
   "execution_count": 6,
   "metadata": {},
   "outputs": [
    {
     "data": {
      "image/png": "[encoded data removed]",
      "text/plain": [
       "<PIL.PngImagePlugin.PngImageFile image mode=L size=28x28 at 0x1B0CE8DDA00>"
      ]
     },
     "execution_count": 6,
     "metadata": {},
     "output_type": "execute_result"
    }
   ],
   "source": [
    "# it's full of image files, look at one now\n",
    "im3_path = threes[1]\n",
    "im3 = Image.open(im3_path) # Image class from Python Imaging Library(PIL)\n",
    "im3"
   ]
  },
  {
   "cell_type": "code",
   "execution_count": 7,
   "metadata": {},
   "outputs": [
    {
     "data": {
      "text/plain": [
       "array([[  0,   0,   0,   0,   0,   0],\n",
       "       [  0,   0,   0,   0,   0,  29],\n",
       "       [  0,   0,   0,  48, 166, 224],\n",
       "       [  0,  93, 244, 249, 253, 187],\n",
       "       [  0, 107, 253, 253, 230,  48],\n",
       "       [  0,   3,  20,  20,  15,   0]], dtype=uint8)"
      ]
     },
     "execution_count": 7,
     "metadata": {},
     "output_type": "execute_result"
    }
   ],
   "source": [
    "# To view the numbers that make up this image, have to convert it to a NumPy array or a PyTorch tensor\n",
    "# a section of the image looks like converted to a NumPy array:\n",
    "array(im3)[4:10,4:10]"
   ]
  },
  {
   "cell_type": "code",
   "execution_count": 8,
   "metadata": {},
   "outputs": [
    {
     "data": {
      "text/plain": [
       "tensor([[  0,   0,   0,   0,   0,   0],\n",
       "        [  0,   0,   0,   0,   0,  29],\n",
       "        [  0,   0,   0,  48, 166, 224],\n",
       "        [  0,  93, 244, 249, 253, 187],\n",
       "        [  0, 107, 253, 253, 230,  48],\n",
       "        [  0,   3,  20,  20,  15,   0]], dtype=torch.uint8)"
      ]
     },
     "execution_count": 8,
     "metadata": {},
     "output_type": "execute_result"
    }
   ],
   "source": [
    "tensor(im3)[4:10,4:10]"
   ]
  },
  {
   "cell_type": "code",
   "execution_count": 9,
   "metadata": {},
   "outputs": [
    {
     "data": {
      "text/html": [
       "<style  type=\"text/css\" >\n",
       "#T_c562985c_51b0_11ec_bff7_9619dcc34da8row0_col0,#T_c562985c_51b0_11ec_bff7_9619dcc34da8row0_col1,#T_c562985c_51b0_11ec_bff7_9619dcc34da8row0_col2,#T_c562985c_51b0_11ec_bff7_9619dcc34da8row0_col3,#T_c562985c_51b0_11ec_bff7_9619dcc34da8row0_col4,#T_c562985c_51b0_11ec_bff7_9619dcc34da8row0_col5,#T_c562985c_51b0_11ec_bff7_9619dcc34da8row0_col6,#T_c562985c_51b0_11ec_bff7_9619dcc34da8row0_col7,#T_c562985c_51b0_11ec_bff7_9619dcc34da8row0_col8,#T_c562985c_51b0_11ec_bff7_9619dcc34da8row0_col9,#T_c562985c_51b0_11ec_bff7_9619dcc34da8row0_col10,#T_c562985c_51b0_11ec_bff7_9619dcc34da8row0_col11,#T_c562985c_51b0_11ec_bff7_9619dcc34da8row0_col12,#T_c562985c_51b0_11ec_bff7_9619dcc34da8row0_col13,#T_c562985c_51b0_11ec_bff7_9619dcc34da8row0_col14,#T_c562985c_51b0_11ec_bff7_9619dcc34da8row0_col15,#T_c562985c_51b0_11ec_bff7_9619dcc34da8row0_col16,#T_c562985c_51b0_11ec_bff7_9619dcc34da8row0_col17,#T_c562985c_51b0_11ec_bff7_9619dcc34da8row1_col0,#T_c562985c_51b0_11ec_bff7_9619dcc34da8row1_col1,#T_c562985c_51b0_11ec_bff7_9619dcc34da8row1_col2,#T_c562985c_51b0_11ec_bff7_9619dcc34da8row1_col3,#T_c562985c_51b0_11ec_bff7_9619dcc34da8row1_col4,#T_c562985c_51b0_11ec_bff7_9619dcc34da8row1_col15,#T_c562985c_51b0_11ec_bff7_9619dcc34da8row1_col16,#T_c562985c_51b0_11ec_bff7_9619dcc34da8row1_col17,#T_c562985c_51b0_11ec_bff7_9619dcc34da8row2_col0,#T_c562985c_51b0_11ec_bff7_9619dcc34da8row2_col1,#T_c562985c_51b0_11ec_bff7_9619dcc34da8row2_col2,#T_c562985c_51b0_11ec_bff7_9619dcc34da8row2_col15,#T_c562985c_51b0_11ec_bff7_9619dcc34da8row2_col16,#T_c562985c_51b0_11ec_bff7_9619dcc34da8row2_col17,#T_c562985c_51b0_11ec_bff7_9619dcc34da8row3_col0,#T_c562985c_51b0_11ec_bff7_9619dcc34da8row3_col15,#T_c562985c_51b0_11ec_bff7_9619dcc34da8row3_col16,#T_c562985c_51b0_11ec_bff7_9619dcc34da8row3_col17,#T_c562985c_51b0_11ec_bff7_9619dcc34da8row4_col0,#T_c562985c_51b0_11ec_bff7_9619dcc34da8row4_col6,#T_c562985c_51b0_11ec_bff7_9619dcc34da8row4_col7,#T_c562985c_51b0_11ec_bff7_9619dcc34da8row4_col8,#T_c562985c_51b0_11ec_bff7_9619dcc34da8row4_col9,#T_c562985c_51b0_11ec_bff7_9619dcc34da8row4_col10,#T_c562985c_51b0_11ec_bff7_9619dcc34da8row4_col15,#T_c562985c_51b0_11ec_bff7_9619dcc34da8row4_col16,#T_c562985c_51b0_11ec_bff7_9619dcc34da8row4_col17,#T_c562985c_51b0_11ec_bff7_9619dcc34da8row5_col0,#T_c562985c_51b0_11ec_bff7_9619dcc34da8row5_col5,#T_c562985c_51b0_11ec_bff7_9619dcc34da8row5_col6,#T_c562985c_51b0_11ec_bff7_9619dcc34da8row5_col7,#T_c562985c_51b0_11ec_bff7_9619dcc34da8row5_col8,#T_c562985c_51b0_11ec_bff7_9619dcc34da8row5_col9,#T_c562985c_51b0_11ec_bff7_9619dcc34da8row5_col15,#T_c562985c_51b0_11ec_bff7_9619dcc34da8row5_col16,#T_c562985c_51b0_11ec_bff7_9619dcc34da8row5_col17,#T_c562985c_51b0_11ec_bff7_9619dcc34da8row6_col0,#T_c562985c_51b0_11ec_bff7_9619dcc34da8row6_col1,#T_c562985c_51b0_11ec_bff7_9619dcc34da8row6_col2,#T_c562985c_51b0_11ec_bff7_9619dcc34da8row6_col3,#T_c562985c_51b0_11ec_bff7_9619dcc34da8row6_col4,#T_c562985c_51b0_11ec_bff7_9619dcc34da8row6_col5,#T_c562985c_51b0_11ec_bff7_9619dcc34da8row6_col6,#T_c562985c_51b0_11ec_bff7_9619dcc34da8row6_col7,#T_c562985c_51b0_11ec_bff7_9619dcc34da8row6_col8,#T_c562985c_51b0_11ec_bff7_9619dcc34da8row6_col9,#T_c562985c_51b0_11ec_bff7_9619dcc34da8row6_col14,#T_c562985c_51b0_11ec_bff7_9619dcc34da8row6_col15,#T_c562985c_51b0_11ec_bff7_9619dcc34da8row6_col16,#T_c562985c_51b0_11ec_bff7_9619dcc34da8row6_col17,#T_c562985c_51b0_11ec_bff7_9619dcc34da8row7_col0,#T_c562985c_51b0_11ec_bff7_9619dcc34da8row7_col1,#T_c562985c_51b0_11ec_bff7_9619dcc34da8row7_col2,#T_c562985c_51b0_11ec_bff7_9619dcc34da8row7_col3,#T_c562985c_51b0_11ec_bff7_9619dcc34da8row7_col4,#T_c562985c_51b0_11ec_bff7_9619dcc34da8row7_col5,#T_c562985c_51b0_11ec_bff7_9619dcc34da8row7_col6,#T_c562985c_51b0_11ec_bff7_9619dcc34da8row7_col13,#T_c562985c_51b0_11ec_bff7_9619dcc34da8row7_col14,#T_c562985c_51b0_11ec_bff7_9619dcc34da8row7_col15,#T_c562985c_51b0_11ec_bff7_9619dcc34da8row7_col16,#T_c562985c_51b0_11ec_bff7_9619dcc34da8row7_col17,#T_c562985c_51b0_11ec_bff7_9619dcc34da8row8_col0,#T_c562985c_51b0_11ec_bff7_9619dcc34da8row8_col1,#T_c562985c_51b0_11ec_bff7_9619dcc34da8row8_col2,#T_c562985c_51b0_11ec_bff7_9619dcc34da8row8_col3,#T_c562985c_51b0_11ec_bff7_9619dcc34da8row8_col4,#T_c562985c_51b0_11ec_bff7_9619dcc34da8row8_col13,#T_c562985c_51b0_11ec_bff7_9619dcc34da8row8_col14,#T_c562985c_51b0_11ec_bff7_9619dcc34da8row8_col15,#T_c562985c_51b0_11ec_bff7_9619dcc34da8row8_col16,#T_c562985c_51b0_11ec_bff7_9619dcc34da8row8_col17,#T_c562985c_51b0_11ec_bff7_9619dcc34da8row9_col0,#T_c562985c_51b0_11ec_bff7_9619dcc34da8row9_col1,#T_c562985c_51b0_11ec_bff7_9619dcc34da8row9_col2,#T_c562985c_51b0_11ec_bff7_9619dcc34da8row9_col3,#T_c562985c_51b0_11ec_bff7_9619dcc34da8row9_col4,#T_c562985c_51b0_11ec_bff7_9619dcc34da8row9_col16,#T_c562985c_51b0_11ec_bff7_9619dcc34da8row9_col17,#T_c562985c_51b0_11ec_bff7_9619dcc34da8row10_col0,#T_c562985c_51b0_11ec_bff7_9619dcc34da8row10_col1,#T_c562985c_51b0_11ec_bff7_9619dcc34da8row10_col2,#T_c562985c_51b0_11ec_bff7_9619dcc34da8row10_col3,#T_c562985c_51b0_11ec_bff7_9619dcc34da8row10_col4,#T_c562985c_51b0_11ec_bff7_9619dcc34da8row10_col5,#T_c562985c_51b0_11ec_bff7_9619dcc34da8row10_col6,#T_c562985c_51b0_11ec_bff7_9619dcc34da8row10_col17{\n",
       "            font-size:  6pt;\n",
       "            background-color:  #ffffff;\n",
       "            color:  #000000;\n",
       "        }#T_c562985c_51b0_11ec_bff7_9619dcc34da8row1_col5{\n",
       "            font-size:  6pt;\n",
       "            background-color:  #efefef;\n",
       "            color:  #000000;\n",
       "        }#T_c562985c_51b0_11ec_bff7_9619dcc34da8row1_col6,#T_c562985c_51b0_11ec_bff7_9619dcc34da8row1_col13{\n",
       "            font-size:  6pt;\n",
       "            background-color:  #7c7c7c;\n",
       "            color:  #000000;\n",
       "        }#T_c562985c_51b0_11ec_bff7_9619dcc34da8row1_col7{\n",
       "            font-size:  6pt;\n",
       "            background-color:  #4a4a4a;\n",
       "            color:  #f1f1f1;\n",
       "        }#T_c562985c_51b0_11ec_bff7_9619dcc34da8row1_col8,#T_c562985c_51b0_11ec_bff7_9619dcc34da8row1_col9,#T_c562985c_51b0_11ec_bff7_9619dcc34da8row1_col10,#T_c562985c_51b0_11ec_bff7_9619dcc34da8row2_col5,#T_c562985c_51b0_11ec_bff7_9619dcc34da8row2_col6,#T_c562985c_51b0_11ec_bff7_9619dcc34da8row2_col7,#T_c562985c_51b0_11ec_bff7_9619dcc34da8row2_col11,#T_c562985c_51b0_11ec_bff7_9619dcc34da8row2_col12,#T_c562985c_51b0_11ec_bff7_9619dcc34da8row2_col13,#T_c562985c_51b0_11ec_bff7_9619dcc34da8row3_col4,#T_c562985c_51b0_11ec_bff7_9619dcc34da8row3_col12,#T_c562985c_51b0_11ec_bff7_9619dcc34da8row3_col13,#T_c562985c_51b0_11ec_bff7_9619dcc34da8row4_col1,#T_c562985c_51b0_11ec_bff7_9619dcc34da8row4_col2,#T_c562985c_51b0_11ec_bff7_9619dcc34da8row4_col3,#T_c562985c_51b0_11ec_bff7_9619dcc34da8row4_col12,#T_c562985c_51b0_11ec_bff7_9619dcc34da8row4_col13,#T_c562985c_51b0_11ec_bff7_9619dcc34da8row5_col12,#T_c562985c_51b0_11ec_bff7_9619dcc34da8row6_col11,#T_c562985c_51b0_11ec_bff7_9619dcc34da8row9_col11,#T_c562985c_51b0_11ec_bff7_9619dcc34da8row10_col11,#T_c562985c_51b0_11ec_bff7_9619dcc34da8row10_col12,#T_c562985c_51b0_11ec_bff7_9619dcc34da8row10_col13,#T_c562985c_51b0_11ec_bff7_9619dcc34da8row10_col14,#T_c562985c_51b0_11ec_bff7_9619dcc34da8row10_col15,#T_c562985c_51b0_11ec_bff7_9619dcc34da8row10_col16{\n",
       "            font-size:  6pt;\n",
       "            background-color:  #000000;\n",
       "            color:  #f1f1f1;\n",
       "        }#T_c562985c_51b0_11ec_bff7_9619dcc34da8row1_col11{\n",
       "            font-size:  6pt;\n",
       "            background-color:  #606060;\n",
       "            color:  #f1f1f1;\n",
       "        }#T_c562985c_51b0_11ec_bff7_9619dcc34da8row1_col12{\n",
       "            font-size:  6pt;\n",
       "            background-color:  #4d4d4d;\n",
       "            color:  #f1f1f1;\n",
       "        }#T_c562985c_51b0_11ec_bff7_9619dcc34da8row1_col14{\n",
       "            font-size:  6pt;\n",
       "            background-color:  #bbbbbb;\n",
       "            color:  #000000;\n",
       "        }#T_c562985c_51b0_11ec_bff7_9619dcc34da8row2_col3{\n",
       "            font-size:  6pt;\n",
       "            background-color:  #e4e4e4;\n",
       "            color:  #000000;\n",
       "        }#T_c562985c_51b0_11ec_bff7_9619dcc34da8row2_col4,#T_c562985c_51b0_11ec_bff7_9619dcc34da8row8_col6{\n",
       "            font-size:  6pt;\n",
       "            background-color:  #6b6b6b;\n",
       "            color:  #000000;\n",
       "        }#T_c562985c_51b0_11ec_bff7_9619dcc34da8row2_col8,#T_c562985c_51b0_11ec_bff7_9619dcc34da8row2_col14,#T_c562985c_51b0_11ec_bff7_9619dcc34da8row3_col14{\n",
       "            font-size:  6pt;\n",
       "            background-color:  #171717;\n",
       "            color:  #f1f1f1;\n",
       "        }#T_c562985c_51b0_11ec_bff7_9619dcc34da8row2_col9,#T_c562985c_51b0_11ec_bff7_9619dcc34da8row3_col11{\n",
       "            font-size:  6pt;\n",
       "            background-color:  #4b4b4b;\n",
       "            color:  #f1f1f1;\n",
       "        }#T_c562985c_51b0_11ec_bff7_9619dcc34da8row2_col10,#T_c562985c_51b0_11ec_bff7_9619dcc34da8row7_col10,#T_c562985c_51b0_11ec_bff7_9619dcc34da8row8_col8,#T_c562985c_51b0_11ec_bff7_9619dcc34da8row8_col10,#T_c562985c_51b0_11ec_bff7_9619dcc34da8row9_col8,#T_c562985c_51b0_11ec_bff7_9619dcc34da8row9_col10{\n",
       "            font-size:  6pt;\n",
       "            background-color:  #010101;\n",
       "            color:  #f1f1f1;\n",
       "        }#T_c562985c_51b0_11ec_bff7_9619dcc34da8row3_col1{\n",
       "            font-size:  6pt;\n",
       "            background-color:  #272727;\n",
       "            color:  #f1f1f1;\n",
       "        }#T_c562985c_51b0_11ec_bff7_9619dcc34da8row3_col2{\n",
       "            font-size:  6pt;\n",
       "            background-color:  #0a0a0a;\n",
       "            color:  #f1f1f1;\n",
       "        }#T_c562985c_51b0_11ec_bff7_9619dcc34da8row3_col3{\n",
       "            font-size:  6pt;\n",
       "            background-color:  #050505;\n",
       "            color:  #f1f1f1;\n",
       "        }#T_c562985c_51b0_11ec_bff7_9619dcc34da8row3_col5{\n",
       "            font-size:  6pt;\n",
       "            background-color:  #333333;\n",
       "            color:  #f1f1f1;\n",
       "        }#T_c562985c_51b0_11ec_bff7_9619dcc34da8row3_col6{\n",
       "            font-size:  6pt;\n",
       "            background-color:  #e6e6e6;\n",
       "            color:  #000000;\n",
       "        }#T_c562985c_51b0_11ec_bff7_9619dcc34da8row3_col7,#T_c562985c_51b0_11ec_bff7_9619dcc34da8row3_col10{\n",
       "            font-size:  6pt;\n",
       "            background-color:  #fafafa;\n",
       "            color:  #000000;\n",
       "        }#T_c562985c_51b0_11ec_bff7_9619dcc34da8row3_col8{\n",
       "            font-size:  6pt;\n",
       "            background-color:  #fbfbfb;\n",
       "            color:  #000000;\n",
       "        }#T_c562985c_51b0_11ec_bff7_9619dcc34da8row3_col9{\n",
       "            font-size:  6pt;\n",
       "            background-color:  #fdfdfd;\n",
       "            color:  #000000;\n",
       "        }#T_c562985c_51b0_11ec_bff7_9619dcc34da8row4_col4{\n",
       "            font-size:  6pt;\n",
       "            background-color:  #1b1b1b;\n",
       "            color:  #f1f1f1;\n",
       "        }#T_c562985c_51b0_11ec_bff7_9619dcc34da8row4_col5{\n",
       "            font-size:  6pt;\n",
       "            background-color:  #e0e0e0;\n",
       "            color:  #000000;\n",
       "        }#T_c562985c_51b0_11ec_bff7_9619dcc34da8row4_col11{\n",
       "            font-size:  6pt;\n",
       "            background-color:  #4e4e4e;\n",
       "            color:  #f1f1f1;\n",
       "        }#T_c562985c_51b0_11ec_bff7_9619dcc34da8row4_col14{\n",
       "            font-size:  6pt;\n",
       "            background-color:  #767676;\n",
       "            color:  #000000;\n",
       "        }#T_c562985c_51b0_11ec_bff7_9619dcc34da8row5_col1{\n",
       "            font-size:  6pt;\n",
       "            background-color:  #fcfcfc;\n",
       "            color:  #000000;\n",
       "        }#T_c562985c_51b0_11ec_bff7_9619dcc34da8row5_col2,#T_c562985c_51b0_11ec_bff7_9619dcc34da8row5_col3{\n",
       "            font-size:  6pt;\n",
       "            background-color:  #f6f6f6;\n",
       "            color:  #000000;\n",
       "        }#T_c562985c_51b0_11ec_bff7_9619dcc34da8row5_col4,#T_c562985c_51b0_11ec_bff7_9619dcc34da8row7_col7{\n",
       "            font-size:  6pt;\n",
       "            background-color:  #f8f8f8;\n",
       "            color:  #000000;\n",
       "        }#T_c562985c_51b0_11ec_bff7_9619dcc34da8row5_col10,#T_c562985c_51b0_11ec_bff7_9619dcc34da8row10_col7{\n",
       "            font-size:  6pt;\n",
       "            background-color:  #e8e8e8;\n",
       "            color:  #000000;\n",
       "        }#T_c562985c_51b0_11ec_bff7_9619dcc34da8row5_col11{\n",
       "            font-size:  6pt;\n",
       "            background-color:  #222222;\n",
       "            color:  #f1f1f1;\n",
       "        }#T_c562985c_51b0_11ec_bff7_9619dcc34da8row5_col13,#T_c562985c_51b0_11ec_bff7_9619dcc34da8row6_col12{\n",
       "            font-size:  6pt;\n",
       "            background-color:  #090909;\n",
       "            color:  #f1f1f1;\n",
       "        }#T_c562985c_51b0_11ec_bff7_9619dcc34da8row5_col14{\n",
       "            font-size:  6pt;\n",
       "            background-color:  #d0d0d0;\n",
       "            color:  #000000;\n",
       "        }#T_c562985c_51b0_11ec_bff7_9619dcc34da8row6_col10,#T_c562985c_51b0_11ec_bff7_9619dcc34da8row7_col11,#T_c562985c_51b0_11ec_bff7_9619dcc34da8row9_col6{\n",
       "            font-size:  6pt;\n",
       "            background-color:  #060606;\n",
       "            color:  #f1f1f1;\n",
       "        }#T_c562985c_51b0_11ec_bff7_9619dcc34da8row6_col13{\n",
       "            font-size:  6pt;\n",
       "            background-color:  #979797;\n",
       "            color:  #000000;\n",
       "        }#T_c562985c_51b0_11ec_bff7_9619dcc34da8row7_col8{\n",
       "            font-size:  6pt;\n",
       "            background-color:  #b6b6b6;\n",
       "            color:  #000000;\n",
       "        }#T_c562985c_51b0_11ec_bff7_9619dcc34da8row7_col9{\n",
       "            font-size:  6pt;\n",
       "            background-color:  #252525;\n",
       "            color:  #f1f1f1;\n",
       "        }#T_c562985c_51b0_11ec_bff7_9619dcc34da8row7_col12{\n",
       "            font-size:  6pt;\n",
       "            background-color:  #999999;\n",
       "            color:  #000000;\n",
       "        }#T_c562985c_51b0_11ec_bff7_9619dcc34da8row8_col5{\n",
       "            font-size:  6pt;\n",
       "            background-color:  #f9f9f9;\n",
       "            color:  #000000;\n",
       "        }#T_c562985c_51b0_11ec_bff7_9619dcc34da8row8_col7{\n",
       "            font-size:  6pt;\n",
       "            background-color:  #101010;\n",
       "            color:  #f1f1f1;\n",
       "        }#T_c562985c_51b0_11ec_bff7_9619dcc34da8row8_col9,#T_c562985c_51b0_11ec_bff7_9619dcc34da8row9_col9{\n",
       "            font-size:  6pt;\n",
       "            background-color:  #020202;\n",
       "            color:  #f1f1f1;\n",
       "        }#T_c562985c_51b0_11ec_bff7_9619dcc34da8row8_col11{\n",
       "            font-size:  6pt;\n",
       "            background-color:  #545454;\n",
       "            color:  #f1f1f1;\n",
       "        }#T_c562985c_51b0_11ec_bff7_9619dcc34da8row8_col12{\n",
       "            font-size:  6pt;\n",
       "            background-color:  #f1f1f1;\n",
       "            color:  #000000;\n",
       "        }#T_c562985c_51b0_11ec_bff7_9619dcc34da8row9_col5{\n",
       "            font-size:  6pt;\n",
       "            background-color:  #f7f7f7;\n",
       "            color:  #000000;\n",
       "        }#T_c562985c_51b0_11ec_bff7_9619dcc34da8row9_col7{\n",
       "            font-size:  6pt;\n",
       "            background-color:  #030303;\n",
       "            color:  #f1f1f1;\n",
       "        }#T_c562985c_51b0_11ec_bff7_9619dcc34da8row9_col12{\n",
       "            font-size:  6pt;\n",
       "            background-color:  #181818;\n",
       "            color:  #f1f1f1;\n",
       "        }#T_c562985c_51b0_11ec_bff7_9619dcc34da8row9_col13{\n",
       "            font-size:  6pt;\n",
       "            background-color:  #303030;\n",
       "            color:  #f1f1f1;\n",
       "        }#T_c562985c_51b0_11ec_bff7_9619dcc34da8row9_col14{\n",
       "            font-size:  6pt;\n",
       "            background-color:  #a9a9a9;\n",
       "            color:  #000000;\n",
       "        }#T_c562985c_51b0_11ec_bff7_9619dcc34da8row9_col15{\n",
       "            font-size:  6pt;\n",
       "            background-color:  #fefefe;\n",
       "            color:  #000000;\n",
       "        }#T_c562985c_51b0_11ec_bff7_9619dcc34da8row10_col8,#T_c562985c_51b0_11ec_bff7_9619dcc34da8row10_col9{\n",
       "            font-size:  6pt;\n",
       "            background-color:  #bababa;\n",
       "            color:  #000000;\n",
       "        }#T_c562985c_51b0_11ec_bff7_9619dcc34da8row10_col10{\n",
       "            font-size:  6pt;\n",
       "            background-color:  #393939;\n",
       "            color:  #f1f1f1;\n",
       "        }</style><table id=\"T_c562985c_51b0_11ec_bff7_9619dcc34da8\" ><thead>    <tr>        <th class=\"blank level0\" ></th>        <th class=\"col_heading level0 col0\" >0</th>        <th class=\"col_heading level0 col1\" >1</th>        <th class=\"col_heading level0 col2\" >2</th>        <th class=\"col_heading level0 col3\" >3</th>        <th class=\"col_heading level0 col4\" >4</th>        <th class=\"col_heading level0 col5\" >5</th>        <th class=\"col_heading level0 col6\" >6</th>        <th class=\"col_heading level0 col7\" >7</th>        <th class=\"col_heading level0 col8\" >8</th>        <th class=\"col_heading level0 col9\" >9</th>        <th class=\"col_heading level0 col10\" >10</th>        <th class=\"col_heading level0 col11\" >11</th>        <th class=\"col_heading level0 col12\" >12</th>        <th class=\"col_heading level0 col13\" >13</th>        <th class=\"col_heading level0 col14\" >14</th>        <th class=\"col_heading level0 col15\" >15</th>        <th class=\"col_heading level0 col16\" >16</th>        <th class=\"col_heading level0 col17\" >17</th>    </tr></thead><tbody>\n",
       "                <tr>\n",
       "                        <th id=\"T_c562985c_51b0_11ec_bff7_9619dcc34da8level0_row0\" class=\"row_heading level0 row0\" >0</th>\n",
       "                        <td id=\"T_c562985c_51b0_11ec_bff7_9619dcc34da8row0_col0\" class=\"data row0 col0\" >0</td>\n",
       "                        <td id=\"T_c562985c_51b0_11ec_bff7_9619dcc34da8row0_col1\" class=\"data row0 col1\" >0</td>\n",
       "                        <td id=\"T_c562985c_51b0_11ec_bff7_9619dcc34da8row0_col2\" class=\"data row0 col2\" >0</td>\n",
       "                        <td id=\"T_c562985c_51b0_11ec_bff7_9619dcc34da8row0_col3\" class=\"data row0 col3\" >0</td>\n",
       "                        <td id=\"T_c562985c_51b0_11ec_bff7_9619dcc34da8row0_col4\" class=\"data row0 col4\" >0</td>\n",
       "                        <td id=\"T_c562985c_51b0_11ec_bff7_9619dcc34da8row0_col5\" class=\"data row0 col5\" >0</td>\n",
       "                        <td id=\"T_c562985c_51b0_11ec_bff7_9619dcc34da8row0_col6\" class=\"data row0 col6\" >0</td>\n",
       "                        <td id=\"T_c562985c_51b0_11ec_bff7_9619dcc34da8row0_col7\" class=\"data row0 col7\" >0</td>\n",
       "                        <td id=\"T_c562985c_51b0_11ec_bff7_9619dcc34da8row0_col8\" class=\"data row0 col8\" >0</td>\n",
       "                        <td id=\"T_c562985c_51b0_11ec_bff7_9619dcc34da8row0_col9\" class=\"data row0 col9\" >0</td>\n",
       "                        <td id=\"T_c562985c_51b0_11ec_bff7_9619dcc34da8row0_col10\" class=\"data row0 col10\" >0</td>\n",
       "                        <td id=\"T_c562985c_51b0_11ec_bff7_9619dcc34da8row0_col11\" class=\"data row0 col11\" >0</td>\n",
       "                        <td id=\"T_c562985c_51b0_11ec_bff7_9619dcc34da8row0_col12\" class=\"data row0 col12\" >0</td>\n",
       "                        <td id=\"T_c562985c_51b0_11ec_bff7_9619dcc34da8row0_col13\" class=\"data row0 col13\" >0</td>\n",
       "                        <td id=\"T_c562985c_51b0_11ec_bff7_9619dcc34da8row0_col14\" class=\"data row0 col14\" >0</td>\n",
       "                        <td id=\"T_c562985c_51b0_11ec_bff7_9619dcc34da8row0_col15\" class=\"data row0 col15\" >0</td>\n",
       "                        <td id=\"T_c562985c_51b0_11ec_bff7_9619dcc34da8row0_col16\" class=\"data row0 col16\" >0</td>\n",
       "                        <td id=\"T_c562985c_51b0_11ec_bff7_9619dcc34da8row0_col17\" class=\"data row0 col17\" >0</td>\n",
       "            </tr>\n",
       "            <tr>\n",
       "                        <th id=\"T_c562985c_51b0_11ec_bff7_9619dcc34da8level0_row1\" class=\"row_heading level0 row1\" >1</th>\n",
       "                        <td id=\"T_c562985c_51b0_11ec_bff7_9619dcc34da8row1_col0\" class=\"data row1 col0\" >0</td>\n",
       "                        <td id=\"T_c562985c_51b0_11ec_bff7_9619dcc34da8row1_col1\" class=\"data row1 col1\" >0</td>\n",
       "                        <td id=\"T_c562985c_51b0_11ec_bff7_9619dcc34da8row1_col2\" class=\"data row1 col2\" >0</td>\n",
       "                        <td id=\"T_c562985c_51b0_11ec_bff7_9619dcc34da8row1_col3\" class=\"data row1 col3\" >0</td>\n",
       "                        <td id=\"T_c562985c_51b0_11ec_bff7_9619dcc34da8row1_col4\" class=\"data row1 col4\" >0</td>\n",
       "                        <td id=\"T_c562985c_51b0_11ec_bff7_9619dcc34da8row1_col5\" class=\"data row1 col5\" >29</td>\n",
       "                        <td id=\"T_c562985c_51b0_11ec_bff7_9619dcc34da8row1_col6\" class=\"data row1 col6\" >150</td>\n",
       "                        <td id=\"T_c562985c_51b0_11ec_bff7_9619dcc34da8row1_col7\" class=\"data row1 col7\" >195</td>\n",
       "                        <td id=\"T_c562985c_51b0_11ec_bff7_9619dcc34da8row1_col8\" class=\"data row1 col8\" >254</td>\n",
       "                        <td id=\"T_c562985c_51b0_11ec_bff7_9619dcc34da8row1_col9\" class=\"data row1 col9\" >255</td>\n",
       "                        <td id=\"T_c562985c_51b0_11ec_bff7_9619dcc34da8row1_col10\" class=\"data row1 col10\" >254</td>\n",
       "                        <td id=\"T_c562985c_51b0_11ec_bff7_9619dcc34da8row1_col11\" class=\"data row1 col11\" >176</td>\n",
       "                        <td id=\"T_c562985c_51b0_11ec_bff7_9619dcc34da8row1_col12\" class=\"data row1 col12\" >193</td>\n",
       "                        <td id=\"T_c562985c_51b0_11ec_bff7_9619dcc34da8row1_col13\" class=\"data row1 col13\" >150</td>\n",
       "                        <td id=\"T_c562985c_51b0_11ec_bff7_9619dcc34da8row1_col14\" class=\"data row1 col14\" >96</td>\n",
       "                        <td id=\"T_c562985c_51b0_11ec_bff7_9619dcc34da8row1_col15\" class=\"data row1 col15\" >0</td>\n",
       "                        <td id=\"T_c562985c_51b0_11ec_bff7_9619dcc34da8row1_col16\" class=\"data row1 col16\" >0</td>\n",
       "                        <td id=\"T_c562985c_51b0_11ec_bff7_9619dcc34da8row1_col17\" class=\"data row1 col17\" >0</td>\n",
       "            </tr>\n",
       "            <tr>\n",
       "                        <th id=\"T_c562985c_51b0_11ec_bff7_9619dcc34da8level0_row2\" class=\"row_heading level0 row2\" >2</th>\n",
       "                        <td id=\"T_c562985c_51b0_11ec_bff7_9619dcc34da8row2_col0\" class=\"data row2 col0\" >0</td>\n",
       "                        <td id=\"T_c562985c_51b0_11ec_bff7_9619dcc34da8row2_col1\" class=\"data row2 col1\" >0</td>\n",
       "                        <td id=\"T_c562985c_51b0_11ec_bff7_9619dcc34da8row2_col2\" class=\"data row2 col2\" >0</td>\n",
       "                        <td id=\"T_c562985c_51b0_11ec_bff7_9619dcc34da8row2_col3\" class=\"data row2 col3\" >48</td>\n",
       "                        <td id=\"T_c562985c_51b0_11ec_bff7_9619dcc34da8row2_col4\" class=\"data row2 col4\" >166</td>\n",
       "                        <td id=\"T_c562985c_51b0_11ec_bff7_9619dcc34da8row2_col5\" class=\"data row2 col5\" >224</td>\n",
       "                        <td id=\"T_c562985c_51b0_11ec_bff7_9619dcc34da8row2_col6\" class=\"data row2 col6\" >253</td>\n",
       "                        <td id=\"T_c562985c_51b0_11ec_bff7_9619dcc34da8row2_col7\" class=\"data row2 col7\" >253</td>\n",
       "                        <td id=\"T_c562985c_51b0_11ec_bff7_9619dcc34da8row2_col8\" class=\"data row2 col8\" >234</td>\n",
       "                        <td id=\"T_c562985c_51b0_11ec_bff7_9619dcc34da8row2_col9\" class=\"data row2 col9\" >196</td>\n",
       "                        <td id=\"T_c562985c_51b0_11ec_bff7_9619dcc34da8row2_col10\" class=\"data row2 col10\" >253</td>\n",
       "                        <td id=\"T_c562985c_51b0_11ec_bff7_9619dcc34da8row2_col11\" class=\"data row2 col11\" >253</td>\n",
       "                        <td id=\"T_c562985c_51b0_11ec_bff7_9619dcc34da8row2_col12\" class=\"data row2 col12\" >253</td>\n",
       "                        <td id=\"T_c562985c_51b0_11ec_bff7_9619dcc34da8row2_col13\" class=\"data row2 col13\" >253</td>\n",
       "                        <td id=\"T_c562985c_51b0_11ec_bff7_9619dcc34da8row2_col14\" class=\"data row2 col14\" >233</td>\n",
       "                        <td id=\"T_c562985c_51b0_11ec_bff7_9619dcc34da8row2_col15\" class=\"data row2 col15\" >0</td>\n",
       "                        <td id=\"T_c562985c_51b0_11ec_bff7_9619dcc34da8row2_col16\" class=\"data row2 col16\" >0</td>\n",
       "                        <td id=\"T_c562985c_51b0_11ec_bff7_9619dcc34da8row2_col17\" class=\"data row2 col17\" >0</td>\n",
       "            </tr>\n",
       "            <tr>\n",
       "                        <th id=\"T_c562985c_51b0_11ec_bff7_9619dcc34da8level0_row3\" class=\"row_heading level0 row3\" >3</th>\n",
       "                        <td id=\"T_c562985c_51b0_11ec_bff7_9619dcc34da8row3_col0\" class=\"data row3 col0\" >0</td>\n",
       "                        <td id=\"T_c562985c_51b0_11ec_bff7_9619dcc34da8row3_col1\" class=\"data row3 col1\" >93</td>\n",
       "                        <td id=\"T_c562985c_51b0_11ec_bff7_9619dcc34da8row3_col2\" class=\"data row3 col2\" >244</td>\n",
       "                        <td id=\"T_c562985c_51b0_11ec_bff7_9619dcc34da8row3_col3\" class=\"data row3 col3\" >249</td>\n",
       "                        <td id=\"T_c562985c_51b0_11ec_bff7_9619dcc34da8row3_col4\" class=\"data row3 col4\" >253</td>\n",
       "                        <td id=\"T_c562985c_51b0_11ec_bff7_9619dcc34da8row3_col5\" class=\"data row3 col5\" >187</td>\n",
       "                        <td id=\"T_c562985c_51b0_11ec_bff7_9619dcc34da8row3_col6\" class=\"data row3 col6\" >46</td>\n",
       "                        <td id=\"T_c562985c_51b0_11ec_bff7_9619dcc34da8row3_col7\" class=\"data row3 col7\" >10</td>\n",
       "                        <td id=\"T_c562985c_51b0_11ec_bff7_9619dcc34da8row3_col8\" class=\"data row3 col8\" >8</td>\n",
       "                        <td id=\"T_c562985c_51b0_11ec_bff7_9619dcc34da8row3_col9\" class=\"data row3 col9\" >4</td>\n",
       "                        <td id=\"T_c562985c_51b0_11ec_bff7_9619dcc34da8row3_col10\" class=\"data row3 col10\" >10</td>\n",
       "                        <td id=\"T_c562985c_51b0_11ec_bff7_9619dcc34da8row3_col11\" class=\"data row3 col11\" >194</td>\n",
       "                        <td id=\"T_c562985c_51b0_11ec_bff7_9619dcc34da8row3_col12\" class=\"data row3 col12\" >253</td>\n",
       "                        <td id=\"T_c562985c_51b0_11ec_bff7_9619dcc34da8row3_col13\" class=\"data row3 col13\" >253</td>\n",
       "                        <td id=\"T_c562985c_51b0_11ec_bff7_9619dcc34da8row3_col14\" class=\"data row3 col14\" >233</td>\n",
       "                        <td id=\"T_c562985c_51b0_11ec_bff7_9619dcc34da8row3_col15\" class=\"data row3 col15\" >0</td>\n",
       "                        <td id=\"T_c562985c_51b0_11ec_bff7_9619dcc34da8row3_col16\" class=\"data row3 col16\" >0</td>\n",
       "                        <td id=\"T_c562985c_51b0_11ec_bff7_9619dcc34da8row3_col17\" class=\"data row3 col17\" >0</td>\n",
       "            </tr>\n",
       "            <tr>\n",
       "                        <th id=\"T_c562985c_51b0_11ec_bff7_9619dcc34da8level0_row4\" class=\"row_heading level0 row4\" >4</th>\n",
       "                        <td id=\"T_c562985c_51b0_11ec_bff7_9619dcc34da8row4_col0\" class=\"data row4 col0\" >0</td>\n",
       "                        <td id=\"T_c562985c_51b0_11ec_bff7_9619dcc34da8row4_col1\" class=\"data row4 col1\" >107</td>\n",
       "                        <td id=\"T_c562985c_51b0_11ec_bff7_9619dcc34da8row4_col2\" class=\"data row4 col2\" >253</td>\n",
       "                        <td id=\"T_c562985c_51b0_11ec_bff7_9619dcc34da8row4_col3\" class=\"data row4 col3\" >253</td>\n",
       "                        <td id=\"T_c562985c_51b0_11ec_bff7_9619dcc34da8row4_col4\" class=\"data row4 col4\" >230</td>\n",
       "                        <td id=\"T_c562985c_51b0_11ec_bff7_9619dcc34da8row4_col5\" class=\"data row4 col5\" >48</td>\n",
       "                        <td id=\"T_c562985c_51b0_11ec_bff7_9619dcc34da8row4_col6\" class=\"data row4 col6\" >0</td>\n",
       "                        <td id=\"T_c562985c_51b0_11ec_bff7_9619dcc34da8row4_col7\" class=\"data row4 col7\" >0</td>\n",
       "                        <td id=\"T_c562985c_51b0_11ec_bff7_9619dcc34da8row4_col8\" class=\"data row4 col8\" >0</td>\n",
       "                        <td id=\"T_c562985c_51b0_11ec_bff7_9619dcc34da8row4_col9\" class=\"data row4 col9\" >0</td>\n",
       "                        <td id=\"T_c562985c_51b0_11ec_bff7_9619dcc34da8row4_col10\" class=\"data row4 col10\" >0</td>\n",
       "                        <td id=\"T_c562985c_51b0_11ec_bff7_9619dcc34da8row4_col11\" class=\"data row4 col11\" >192</td>\n",
       "                        <td id=\"T_c562985c_51b0_11ec_bff7_9619dcc34da8row4_col12\" class=\"data row4 col12\" >253</td>\n",
       "                        <td id=\"T_c562985c_51b0_11ec_bff7_9619dcc34da8row4_col13\" class=\"data row4 col13\" >253</td>\n",
       "                        <td id=\"T_c562985c_51b0_11ec_bff7_9619dcc34da8row4_col14\" class=\"data row4 col14\" >156</td>\n",
       "                        <td id=\"T_c562985c_51b0_11ec_bff7_9619dcc34da8row4_col15\" class=\"data row4 col15\" >0</td>\n",
       "                        <td id=\"T_c562985c_51b0_11ec_bff7_9619dcc34da8row4_col16\" class=\"data row4 col16\" >0</td>\n",
       "                        <td id=\"T_c562985c_51b0_11ec_bff7_9619dcc34da8row4_col17\" class=\"data row4 col17\" >0</td>\n",
       "            </tr>\n",
       "            <tr>\n",
       "                        <th id=\"T_c562985c_51b0_11ec_bff7_9619dcc34da8level0_row5\" class=\"row_heading level0 row5\" >5</th>\n",
       "                        <td id=\"T_c562985c_51b0_11ec_bff7_9619dcc34da8row5_col0\" class=\"data row5 col0\" >0</td>\n",
       "                        <td id=\"T_c562985c_51b0_11ec_bff7_9619dcc34da8row5_col1\" class=\"data row5 col1\" >3</td>\n",
       "                        <td id=\"T_c562985c_51b0_11ec_bff7_9619dcc34da8row5_col2\" class=\"data row5 col2\" >20</td>\n",
       "                        <td id=\"T_c562985c_51b0_11ec_bff7_9619dcc34da8row5_col3\" class=\"data row5 col3\" >20</td>\n",
       "                        <td id=\"T_c562985c_51b0_11ec_bff7_9619dcc34da8row5_col4\" class=\"data row5 col4\" >15</td>\n",
       "                        <td id=\"T_c562985c_51b0_11ec_bff7_9619dcc34da8row5_col5\" class=\"data row5 col5\" >0</td>\n",
       "                        <td id=\"T_c562985c_51b0_11ec_bff7_9619dcc34da8row5_col6\" class=\"data row5 col6\" >0</td>\n",
       "                        <td id=\"T_c562985c_51b0_11ec_bff7_9619dcc34da8row5_col7\" class=\"data row5 col7\" >0</td>\n",
       "                        <td id=\"T_c562985c_51b0_11ec_bff7_9619dcc34da8row5_col8\" class=\"data row5 col8\" >0</td>\n",
       "                        <td id=\"T_c562985c_51b0_11ec_bff7_9619dcc34da8row5_col9\" class=\"data row5 col9\" >0</td>\n",
       "                        <td id=\"T_c562985c_51b0_11ec_bff7_9619dcc34da8row5_col10\" class=\"data row5 col10\" >43</td>\n",
       "                        <td id=\"T_c562985c_51b0_11ec_bff7_9619dcc34da8row5_col11\" class=\"data row5 col11\" >224</td>\n",
       "                        <td id=\"T_c562985c_51b0_11ec_bff7_9619dcc34da8row5_col12\" class=\"data row5 col12\" >253</td>\n",
       "                        <td id=\"T_c562985c_51b0_11ec_bff7_9619dcc34da8row5_col13\" class=\"data row5 col13\" >245</td>\n",
       "                        <td id=\"T_c562985c_51b0_11ec_bff7_9619dcc34da8row5_col14\" class=\"data row5 col14\" >74</td>\n",
       "                        <td id=\"T_c562985c_51b0_11ec_bff7_9619dcc34da8row5_col15\" class=\"data row5 col15\" >0</td>\n",
       "                        <td id=\"T_c562985c_51b0_11ec_bff7_9619dcc34da8row5_col16\" class=\"data row5 col16\" >0</td>\n",
       "                        <td id=\"T_c562985c_51b0_11ec_bff7_9619dcc34da8row5_col17\" class=\"data row5 col17\" >0</td>\n",
       "            </tr>\n",
       "            <tr>\n",
       "                        <th id=\"T_c562985c_51b0_11ec_bff7_9619dcc34da8level0_row6\" class=\"row_heading level0 row6\" >6</th>\n",
       "                        <td id=\"T_c562985c_51b0_11ec_bff7_9619dcc34da8row6_col0\" class=\"data row6 col0\" >0</td>\n",
       "                        <td id=\"T_c562985c_51b0_11ec_bff7_9619dcc34da8row6_col1\" class=\"data row6 col1\" >0</td>\n",
       "                        <td id=\"T_c562985c_51b0_11ec_bff7_9619dcc34da8row6_col2\" class=\"data row6 col2\" >0</td>\n",
       "                        <td id=\"T_c562985c_51b0_11ec_bff7_9619dcc34da8row6_col3\" class=\"data row6 col3\" >0</td>\n",
       "                        <td id=\"T_c562985c_51b0_11ec_bff7_9619dcc34da8row6_col4\" class=\"data row6 col4\" >0</td>\n",
       "                        <td id=\"T_c562985c_51b0_11ec_bff7_9619dcc34da8row6_col5\" class=\"data row6 col5\" >0</td>\n",
       "                        <td id=\"T_c562985c_51b0_11ec_bff7_9619dcc34da8row6_col6\" class=\"data row6 col6\" >0</td>\n",
       "                        <td id=\"T_c562985c_51b0_11ec_bff7_9619dcc34da8row6_col7\" class=\"data row6 col7\" >0</td>\n",
       "                        <td id=\"T_c562985c_51b0_11ec_bff7_9619dcc34da8row6_col8\" class=\"data row6 col8\" >0</td>\n",
       "                        <td id=\"T_c562985c_51b0_11ec_bff7_9619dcc34da8row6_col9\" class=\"data row6 col9\" >0</td>\n",
       "                        <td id=\"T_c562985c_51b0_11ec_bff7_9619dcc34da8row6_col10\" class=\"data row6 col10\" >249</td>\n",
       "                        <td id=\"T_c562985c_51b0_11ec_bff7_9619dcc34da8row6_col11\" class=\"data row6 col11\" >253</td>\n",
       "                        <td id=\"T_c562985c_51b0_11ec_bff7_9619dcc34da8row6_col12\" class=\"data row6 col12\" >245</td>\n",
       "                        <td id=\"T_c562985c_51b0_11ec_bff7_9619dcc34da8row6_col13\" class=\"data row6 col13\" >126</td>\n",
       "                        <td id=\"T_c562985c_51b0_11ec_bff7_9619dcc34da8row6_col14\" class=\"data row6 col14\" >0</td>\n",
       "                        <td id=\"T_c562985c_51b0_11ec_bff7_9619dcc34da8row6_col15\" class=\"data row6 col15\" >0</td>\n",
       "                        <td id=\"T_c562985c_51b0_11ec_bff7_9619dcc34da8row6_col16\" class=\"data row6 col16\" >0</td>\n",
       "                        <td id=\"T_c562985c_51b0_11ec_bff7_9619dcc34da8row6_col17\" class=\"data row6 col17\" >0</td>\n",
       "            </tr>\n",
       "            <tr>\n",
       "                        <th id=\"T_c562985c_51b0_11ec_bff7_9619dcc34da8level0_row7\" class=\"row_heading level0 row7\" >7</th>\n",
       "                        <td id=\"T_c562985c_51b0_11ec_bff7_9619dcc34da8row7_col0\" class=\"data row7 col0\" >0</td>\n",
       "                        <td id=\"T_c562985c_51b0_11ec_bff7_9619dcc34da8row7_col1\" class=\"data row7 col1\" >0</td>\n",
       "                        <td id=\"T_c562985c_51b0_11ec_bff7_9619dcc34da8row7_col2\" class=\"data row7 col2\" >0</td>\n",
       "                        <td id=\"T_c562985c_51b0_11ec_bff7_9619dcc34da8row7_col3\" class=\"data row7 col3\" >0</td>\n",
       "                        <td id=\"T_c562985c_51b0_11ec_bff7_9619dcc34da8row7_col4\" class=\"data row7 col4\" >0</td>\n",
       "                        <td id=\"T_c562985c_51b0_11ec_bff7_9619dcc34da8row7_col5\" class=\"data row7 col5\" >0</td>\n",
       "                        <td id=\"T_c562985c_51b0_11ec_bff7_9619dcc34da8row7_col6\" class=\"data row7 col6\" >0</td>\n",
       "                        <td id=\"T_c562985c_51b0_11ec_bff7_9619dcc34da8row7_col7\" class=\"data row7 col7\" >14</td>\n",
       "                        <td id=\"T_c562985c_51b0_11ec_bff7_9619dcc34da8row7_col8\" class=\"data row7 col8\" >101</td>\n",
       "                        <td id=\"T_c562985c_51b0_11ec_bff7_9619dcc34da8row7_col9\" class=\"data row7 col9\" >223</td>\n",
       "                        <td id=\"T_c562985c_51b0_11ec_bff7_9619dcc34da8row7_col10\" class=\"data row7 col10\" >253</td>\n",
       "                        <td id=\"T_c562985c_51b0_11ec_bff7_9619dcc34da8row7_col11\" class=\"data row7 col11\" >248</td>\n",
       "                        <td id=\"T_c562985c_51b0_11ec_bff7_9619dcc34da8row7_col12\" class=\"data row7 col12\" >124</td>\n",
       "                        <td id=\"T_c562985c_51b0_11ec_bff7_9619dcc34da8row7_col13\" class=\"data row7 col13\" >0</td>\n",
       "                        <td id=\"T_c562985c_51b0_11ec_bff7_9619dcc34da8row7_col14\" class=\"data row7 col14\" >0</td>\n",
       "                        <td id=\"T_c562985c_51b0_11ec_bff7_9619dcc34da8row7_col15\" class=\"data row7 col15\" >0</td>\n",
       "                        <td id=\"T_c562985c_51b0_11ec_bff7_9619dcc34da8row7_col16\" class=\"data row7 col16\" >0</td>\n",
       "                        <td id=\"T_c562985c_51b0_11ec_bff7_9619dcc34da8row7_col17\" class=\"data row7 col17\" >0</td>\n",
       "            </tr>\n",
       "            <tr>\n",
       "                        <th id=\"T_c562985c_51b0_11ec_bff7_9619dcc34da8level0_row8\" class=\"row_heading level0 row8\" >8</th>\n",
       "                        <td id=\"T_c562985c_51b0_11ec_bff7_9619dcc34da8row8_col0\" class=\"data row8 col0\" >0</td>\n",
       "                        <td id=\"T_c562985c_51b0_11ec_bff7_9619dcc34da8row8_col1\" class=\"data row8 col1\" >0</td>\n",
       "                        <td id=\"T_c562985c_51b0_11ec_bff7_9619dcc34da8row8_col2\" class=\"data row8 col2\" >0</td>\n",
       "                        <td id=\"T_c562985c_51b0_11ec_bff7_9619dcc34da8row8_col3\" class=\"data row8 col3\" >0</td>\n",
       "                        <td id=\"T_c562985c_51b0_11ec_bff7_9619dcc34da8row8_col4\" class=\"data row8 col4\" >0</td>\n",
       "                        <td id=\"T_c562985c_51b0_11ec_bff7_9619dcc34da8row8_col5\" class=\"data row8 col5\" >11</td>\n",
       "                        <td id=\"T_c562985c_51b0_11ec_bff7_9619dcc34da8row8_col6\" class=\"data row8 col6\" >166</td>\n",
       "                        <td id=\"T_c562985c_51b0_11ec_bff7_9619dcc34da8row8_col7\" class=\"data row8 col7\" >239</td>\n",
       "                        <td id=\"T_c562985c_51b0_11ec_bff7_9619dcc34da8row8_col8\" class=\"data row8 col8\" >253</td>\n",
       "                        <td id=\"T_c562985c_51b0_11ec_bff7_9619dcc34da8row8_col9\" class=\"data row8 col9\" >253</td>\n",
       "                        <td id=\"T_c562985c_51b0_11ec_bff7_9619dcc34da8row8_col10\" class=\"data row8 col10\" >253</td>\n",
       "                        <td id=\"T_c562985c_51b0_11ec_bff7_9619dcc34da8row8_col11\" class=\"data row8 col11\" >187</td>\n",
       "                        <td id=\"T_c562985c_51b0_11ec_bff7_9619dcc34da8row8_col12\" class=\"data row8 col12\" >30</td>\n",
       "                        <td id=\"T_c562985c_51b0_11ec_bff7_9619dcc34da8row8_col13\" class=\"data row8 col13\" >0</td>\n",
       "                        <td id=\"T_c562985c_51b0_11ec_bff7_9619dcc34da8row8_col14\" class=\"data row8 col14\" >0</td>\n",
       "                        <td id=\"T_c562985c_51b0_11ec_bff7_9619dcc34da8row8_col15\" class=\"data row8 col15\" >0</td>\n",
       "                        <td id=\"T_c562985c_51b0_11ec_bff7_9619dcc34da8row8_col16\" class=\"data row8 col16\" >0</td>\n",
       "                        <td id=\"T_c562985c_51b0_11ec_bff7_9619dcc34da8row8_col17\" class=\"data row8 col17\" >0</td>\n",
       "            </tr>\n",
       "            <tr>\n",
       "                        <th id=\"T_c562985c_51b0_11ec_bff7_9619dcc34da8level0_row9\" class=\"row_heading level0 row9\" >9</th>\n",
       "                        <td id=\"T_c562985c_51b0_11ec_bff7_9619dcc34da8row9_col0\" class=\"data row9 col0\" >0</td>\n",
       "                        <td id=\"T_c562985c_51b0_11ec_bff7_9619dcc34da8row9_col1\" class=\"data row9 col1\" >0</td>\n",
       "                        <td id=\"T_c562985c_51b0_11ec_bff7_9619dcc34da8row9_col2\" class=\"data row9 col2\" >0</td>\n",
       "                        <td id=\"T_c562985c_51b0_11ec_bff7_9619dcc34da8row9_col3\" class=\"data row9 col3\" >0</td>\n",
       "                        <td id=\"T_c562985c_51b0_11ec_bff7_9619dcc34da8row9_col4\" class=\"data row9 col4\" >0</td>\n",
       "                        <td id=\"T_c562985c_51b0_11ec_bff7_9619dcc34da8row9_col5\" class=\"data row9 col5\" >16</td>\n",
       "                        <td id=\"T_c562985c_51b0_11ec_bff7_9619dcc34da8row9_col6\" class=\"data row9 col6\" >248</td>\n",
       "                        <td id=\"T_c562985c_51b0_11ec_bff7_9619dcc34da8row9_col7\" class=\"data row9 col7\" >250</td>\n",
       "                        <td id=\"T_c562985c_51b0_11ec_bff7_9619dcc34da8row9_col8\" class=\"data row9 col8\" >253</td>\n",
       "                        <td id=\"T_c562985c_51b0_11ec_bff7_9619dcc34da8row9_col9\" class=\"data row9 col9\" >253</td>\n",
       "                        <td id=\"T_c562985c_51b0_11ec_bff7_9619dcc34da8row9_col10\" class=\"data row9 col10\" >253</td>\n",
       "                        <td id=\"T_c562985c_51b0_11ec_bff7_9619dcc34da8row9_col11\" class=\"data row9 col11\" >253</td>\n",
       "                        <td id=\"T_c562985c_51b0_11ec_bff7_9619dcc34da8row9_col12\" class=\"data row9 col12\" >232</td>\n",
       "                        <td id=\"T_c562985c_51b0_11ec_bff7_9619dcc34da8row9_col13\" class=\"data row9 col13\" >213</td>\n",
       "                        <td id=\"T_c562985c_51b0_11ec_bff7_9619dcc34da8row9_col14\" class=\"data row9 col14\" >111</td>\n",
       "                        <td id=\"T_c562985c_51b0_11ec_bff7_9619dcc34da8row9_col15\" class=\"data row9 col15\" >2</td>\n",
       "                        <td id=\"T_c562985c_51b0_11ec_bff7_9619dcc34da8row9_col16\" class=\"data row9 col16\" >0</td>\n",
       "                        <td id=\"T_c562985c_51b0_11ec_bff7_9619dcc34da8row9_col17\" class=\"data row9 col17\" >0</td>\n",
       "            </tr>\n",
       "            <tr>\n",
       "                        <th id=\"T_c562985c_51b0_11ec_bff7_9619dcc34da8level0_row10\" class=\"row_heading level0 row10\" >10</th>\n",
       "                        <td id=\"T_c562985c_51b0_11ec_bff7_9619dcc34da8row10_col0\" class=\"data row10 col0\" >0</td>\n",
       "                        <td id=\"T_c562985c_51b0_11ec_bff7_9619dcc34da8row10_col1\" class=\"data row10 col1\" >0</td>\n",
       "                        <td id=\"T_c562985c_51b0_11ec_bff7_9619dcc34da8row10_col2\" class=\"data row10 col2\" >0</td>\n",
       "                        <td id=\"T_c562985c_51b0_11ec_bff7_9619dcc34da8row10_col3\" class=\"data row10 col3\" >0</td>\n",
       "                        <td id=\"T_c562985c_51b0_11ec_bff7_9619dcc34da8row10_col4\" class=\"data row10 col4\" >0</td>\n",
       "                        <td id=\"T_c562985c_51b0_11ec_bff7_9619dcc34da8row10_col5\" class=\"data row10 col5\" >0</td>\n",
       "                        <td id=\"T_c562985c_51b0_11ec_bff7_9619dcc34da8row10_col6\" class=\"data row10 col6\" >0</td>\n",
       "                        <td id=\"T_c562985c_51b0_11ec_bff7_9619dcc34da8row10_col7\" class=\"data row10 col7\" >43</td>\n",
       "                        <td id=\"T_c562985c_51b0_11ec_bff7_9619dcc34da8row10_col8\" class=\"data row10 col8\" >98</td>\n",
       "                        <td id=\"T_c562985c_51b0_11ec_bff7_9619dcc34da8row10_col9\" class=\"data row10 col9\" >98</td>\n",
       "                        <td id=\"T_c562985c_51b0_11ec_bff7_9619dcc34da8row10_col10\" class=\"data row10 col10\" >208</td>\n",
       "                        <td id=\"T_c562985c_51b0_11ec_bff7_9619dcc34da8row10_col11\" class=\"data row10 col11\" >253</td>\n",
       "                        <td id=\"T_c562985c_51b0_11ec_bff7_9619dcc34da8row10_col12\" class=\"data row10 col12\" >253</td>\n",
       "                        <td id=\"T_c562985c_51b0_11ec_bff7_9619dcc34da8row10_col13\" class=\"data row10 col13\" >253</td>\n",
       "                        <td id=\"T_c562985c_51b0_11ec_bff7_9619dcc34da8row10_col14\" class=\"data row10 col14\" >253</td>\n",
       "                        <td id=\"T_c562985c_51b0_11ec_bff7_9619dcc34da8row10_col15\" class=\"data row10 col15\" >187</td>\n",
       "                        <td id=\"T_c562985c_51b0_11ec_bff7_9619dcc34da8row10_col16\" class=\"data row10 col16\" >22</td>\n",
       "                        <td id=\"T_c562985c_51b0_11ec_bff7_9619dcc34da8row10_col17\" class=\"data row10 col17\" >0</td>\n",
       "            </tr>\n",
       "    </tbody></table>"
      ],
      "text/plain": [
       "<pandas.io.formats.style.Styler at 0x1b0cf658100>"
      ]
     },
     "execution_count": 9,
     "metadata": {},
     "output_type": "execute_result"
    }
   ],
   "source": [
    "# slice the array to pick just the part with the top of the digit in it\n",
    "# then use a Pandas DataFrame to color-code the values using a gradient\n",
    "im3_t = tensor(im3)\n",
    "df = pd.DataFrame(im3_t[4:15,4:22])\n",
    "df.style.set_properties(**{'font-size':'6pt'}).background_gradient('Greys')"
   ]
  },
  {
   "cell_type": "markdown",
   "metadata": {},
   "source": [
    "###### Q1: What kinds of features might it be able to look at? \n",
    "Ans: The features are as follow:\n",
    "        - Shades \n",
    "        - Location\n",
    "        \n",
    "###### Q2: How might it be able to identify these features? \n",
    "Ans: In an array of shades of images.\n",
    "\n",
    "###### Q3: How could it combine them? \n",
    "Ans: Combine the shades with the location of that pixel.\n",
    "\n",
    "## First Try: Pixel Similarity\n",
    "we find the average pixel value for every pixel of the 3s and 7s. This will give us two groups averages, defining what we might call the \"ideal\" 3 and 7. Then, to classify an image as one digit or the other, to see most similar."
   ]
  },
  {
   "cell_type": "code",
   "execution_count": 10,
   "metadata": {
    "scrolled": true
   },
   "outputs": [
    {
     "data": {
      "text/plain": [
       "(6131, 6265)"
      ]
     },
     "execution_count": 10,
     "metadata": {},
     "output_type": "execute_result"
    }
   ],
   "source": [
    "# create a tensor containing all of our 3s stacked together\n",
    "seven_tensors = [tensor(Image.open(o)) for o in sevens]\n",
    "three_tensors = [tensor(Image.open(o)) for o in threes]\n",
    "len(three_tensors), len(seven_tensors)"
   ]
  },
  {
   "cell_type": "code",
   "execution_count": 11,
   "metadata": {},
   "outputs": [
    {
     "data": {
      "text/plain": [
       "<AxesSubplot:>"
      ]
     },
     "execution_count": 11,
     "metadata": {},
     "output_type": "execute_result"
    },
    {
     "data": {
      "image/png": "[encoded data removed]",
      "text/plain": [
       "<Figure size 72x72 with 1 Axes>"
      ]
     },
     "metadata": {
      "needs_background": "light"
     },
     "output_type": "display_data"
    }
   ],
   "source": [
    "show_image(three_tensors[1])"
   ]
  },
  {
   "cell_type": "markdown",
   "metadata": {},
   "source": [
    "To compute the average over all the images of the intensity of that pixel:\n",
    "- Combine all the images in this list into a  single three-dimensional tensor(rank-3 tensor).\n",
    "- Stack up individual tensors in a collection into a single tensor.\n",
    "- Cast our stacked tensor to float.\n",
    "- When images are floats, the pixel values are expected to be between 0 and 1, so we will also divide by 255."
   ]
  },
  {
   "cell_type": "code",
   "execution_count": 12,
   "metadata": {},
   "outputs": [
    {
     "data": {
      "text/plain": [
       "torch.Size([6131, 28, 28])"
      ]
     },
     "execution_count": 12,
     "metadata": {},
     "output_type": "execute_result"
    }
   ],
   "source": [
    "stacked_sevens = torch.stack(seven_tensors).float()/255\n",
    "stacked_threes = torch.stack(three_tensors).float()/255\n",
    "stacked_threes.shape"
   ]
  },
  {
   "cell_type": "code",
   "execution_count": 13,
   "metadata": {},
   "outputs": [
    {
     "data": {
      "text/plain": [
       "(3, 3)"
      ]
     },
     "execution_count": 13,
     "metadata": {},
     "output_type": "execute_result"
    }
   ],
   "source": [
    "# the length of a tensor's shape is its rank:\n",
    "len(stacked_threes.shape), stacked_threes.ndim"
   ]
  },
  {
   "cell_type": "code",
   "execution_count": 14,
   "metadata": {},
   "outputs": [],
   "source": [
    "v = tensor([14, 56, 87])"
   ]
  },
  {
   "cell_type": "code",
   "execution_count": 15,
   "metadata": {},
   "outputs": [
    {
     "data": {
      "text/plain": [
       "torch.Size([3])"
      ]
     },
     "execution_count": 15,
     "metadata": {},
     "output_type": "execute_result"
    }
   ],
   "source": [
    "v.shape"
   ]
  },
  {
   "cell_type": "code",
   "execution_count": 16,
   "metadata": {},
   "outputs": [
    {
     "data": {
      "text/plain": [
       "1"
      ]
     },
     "execution_count": 16,
     "metadata": {},
     "output_type": "execute_result"
    }
   ],
   "source": [
    "v.ndim"
   ]
  },
  {
   "cell_type": "code",
   "execution_count": 17,
   "metadata": {},
   "outputs": [
    {
     "data": {
      "image/png": "[encoded data removed]",
      "text/plain": [
       "<Figure size 72x72 with 1 Axes>"
      ]
     },
     "metadata": {
      "needs_background": "light"
     },
     "output_type": "display_data"
    }
   ],
   "source": [
    "# Compute the ideal 3: calculate the mean of all the image tensors by taking the mean along dimension 0 of our stacked\n",
    "mean3 = stacked_threes.mean(0)\n",
    "show_image(mean3);"
   ]
  },
  {
   "cell_type": "markdown",
   "metadata": {},
   "source": [
    "Peak number 3 performance looks like:\n",
    "- Dark: where all the images agree it should be dark\n",
    "- Wispy and Blurry: where the images disagree"
   ]
  },
  {
   "cell_type": "code",
   "execution_count": 18,
   "metadata": {},
   "outputs": [
    {
     "data": {
      "text/plain": [
       "<AxesSubplot:>"
      ]
     },
     "execution_count": 18,
     "metadata": {},
     "output_type": "execute_result"
    },
    {
     "data": {
      "image/png": "[encoded data removed]",
      "text/plain": [
       "<Figure size 72x72 with 1 Axes>"
      ]
     },
     "metadata": {
      "needs_background": "light"
     },
     "output_type": "display_data"
    }
   ],
   "source": [
    "mean7 = stacked_sevens.mean(0)\n",
    "show_image(mean7)"
   ]
  },
  {
   "cell_type": "markdown",
   "metadata": {},
   "source": [
    "###### Q1. How would you calculate how similar a particular image is to each of our ideal digits? \n",
    "Ans: By finding maximum pixels close to dark pixel area"
   ]
  },
  {
   "cell_type": "code",
   "execution_count": 19,
   "metadata": {},
   "outputs": [
    {
     "data": {
      "text/plain": [
       "<AxesSubplot:>"
      ]
     },
     "execution_count": 19,
     "metadata": {},
     "output_type": "execute_result"
    },
    {
     "data": {
      "image/png": "[encoded data removed]",
      "text/plain": [
       "<Figure size 72x72 with 1 Axes>"
      ]
     },
     "metadata": {
      "needs_background": "light"
     },
     "output_type": "display_data"
    }
   ],
   "source": [
    "# sample 3\n",
    "a_3 = stacked_threes[1]\n",
    "show_image(a_3)"
   ]
  },
  {
   "cell_type": "markdown",
   "metadata": {},
   "source": [
    "Data scientists use two main ways to measure distance in this context:\n",
    "- Mean Absolute difference or L1 norm:\n",
    "    - take the mean of the absolute(fn: -ve -> +ve) value of differences. \n",
    "- Root mean squared error or L2 norm\n",
    "    - take mean of the square of differences (which makes everything positive)\n",
    "    - take the square root (which undoes the squaring)"
   ]
  },
  {
   "cell_type": "code",
   "execution_count": 20,
   "metadata": {},
   "outputs": [
    {
     "data": {
      "text/plain": [
       "(tensor(0.1114), tensor(0.2021))"
      ]
     },
     "execution_count": 20,
     "metadata": {},
     "output_type": "execute_result"
    }
   ],
   "source": [
    "# try both:\n",
    "dist_3_abs = (a_3 - mean3).abs().mean()\n",
    "dist_3_sqr = ((a_3 - mean3)**2).mean().sqrt()\n",
    "dist_3_abs, dist_3_sqr"
   ]
  },
  {
   "cell_type": "code",
   "execution_count": 21,
   "metadata": {},
   "outputs": [],
   "source": [
    "dist_7_abs = (a_3 - mean7).abs().mean()\n",
    "dist_7_sqr = ((a_3 - mean7)**2).mean().sqrt()"
   ]
  },
  {
   "cell_type": "markdown",
   "metadata": {},
   "source": [
    "In both cases, the distance between our 3 and the “ideal” 3 is less than the distance to the ideal 7: loss function in Pytorch"
   ]
  },
  {
   "cell_type": "code",
   "execution_count": 22,
   "metadata": {},
   "outputs": [
    {
     "data": {
      "text/plain": [
       "(tensor(0.1586), tensor(0.3021))"
      ]
     },
     "execution_count": 22,
     "metadata": {},
     "output_type": "execute_result"
    }
   ],
   "source": [
    "F.l1_loss(a_3.float(),mean7), F.mse_loss(a_3,mean7).sqrt()"
   ]
  },
  {
   "cell_type": "markdown",
   "metadata": {},
   "source": [
    "### NumPy Arrays and PyTorch Tensors"
   ]
  },
  {
   "cell_type": "code",
   "execution_count": 23,
   "metadata": {},
   "outputs": [
    {
     "data": {
      "text/plain": [
       "array([[1, 2, 3],\n",
       "       [4, 5, 6]])"
      ]
     },
     "execution_count": 23,
     "metadata": {},
     "output_type": "execute_result"
    }
   ],
   "source": [
    "# To create an array or tensor, pass a list (or list of lists, or list of lists of lists, etc.) to array or tensor:\n",
    "data = [[1,2,3],[4,5,6]]\n",
    "arr = array(data)\n",
    "tns = tensor(data)\n",
    "\n",
    "arr # numpy"
   ]
  },
  {
   "cell_type": "code",
   "execution_count": 24,
   "metadata": {},
   "outputs": [
    {
     "data": {
      "text/plain": [
       "tensor([[1, 2, 3],\n",
       "        [4, 5, 6]])"
      ]
     },
     "execution_count": 24,
     "metadata": {},
     "output_type": "execute_result"
    }
   ],
   "source": [
    "tns # pytorch"
   ]
  },
  {
   "cell_type": "code",
   "execution_count": 25,
   "metadata": {},
   "outputs": [
    {
     "data": {
      "text/plain": [
       "tensor([4, 5, 6])"
      ]
     },
     "execution_count": 25,
     "metadata": {},
     "output_type": "execute_result"
    }
   ],
   "source": [
    "# select a row\n",
    "tns[1]"
   ]
  },
  {
   "cell_type": "code",
   "execution_count": 26,
   "metadata": {},
   "outputs": [
    {
     "data": {
      "text/plain": [
       "tensor([2, 5])"
      ]
     },
     "execution_count": 26,
     "metadata": {},
     "output_type": "execute_result"
    }
   ],
   "source": [
    "# column, by using : to indicate all of the first axis\n",
    "tns[:,1]"
   ]
  },
  {
   "cell_type": "code",
   "execution_count": 27,
   "metadata": {},
   "outputs": [
    {
     "data": {
      "text/plain": [
       "tensor([5, 6])"
      ]
     },
     "execution_count": 27,
     "metadata": {},
     "output_type": "execute_result"
    }
   ],
   "source": [
    "# You can combine these with Python slice syntax ([start:end], with end being excluded) to select part of a row or column:\n",
    "\n",
    "tns[1,1:3]"
   ]
  },
  {
   "cell_type": "code",
   "execution_count": 28,
   "metadata": {},
   "outputs": [
    {
     "data": {
      "text/plain": [
       "tensor([[2, 3, 4],\n",
       "        [5, 6, 7]])"
      ]
     },
     "execution_count": 28,
     "metadata": {},
     "output_type": "execute_result"
    }
   ],
   "source": [
    "# use the standard operators, such as +, -, *, and /:\n",
    "tns + 1"
   ]
  },
  {
   "cell_type": "code",
   "execution_count": 29,
   "metadata": {},
   "outputs": [
    {
     "data": {
      "text/plain": [
       "'torch.LongTensor'"
      ]
     },
     "execution_count": 29,
     "metadata": {},
     "output_type": "execute_result"
    }
   ],
   "source": [
    "# Tensors have a type:\n",
    "tns.type()"
   ]
  },
  {
   "cell_type": "markdown",
   "metadata": {},
   "source": [
    "### Computing Metrics Using Broadcasting\n",
    "\n",
    "**Metric** is a number that is calculated based on the predictions of our model and the correct labels in our dataset"
   ]
  },
  {
   "cell_type": "code",
   "execution_count": 30,
   "metadata": {},
   "outputs": [
    {
     "data": {
      "text/plain": [
       "(torch.Size([1010, 28, 28]), torch.Size([1028, 28, 28]))"
      ]
     },
     "execution_count": 30,
     "metadata": {},
     "output_type": "execute_result"
    }
   ],
   "source": [
    "# create tensors for our 3s and 7s from Valid directory\n",
    "valid_3_tens = torch.stack([tensor(Image.open(o)) for o in (path/'valid'/'3').ls()])\n",
    "valid_3_tens = valid_3_tens.float()/255\n",
    "valid_7_tens = torch.stack([tensor(Image.open(o)) for o in (path/'valid'/'7').ls()])\n",
    "valid_7_tens = valid_7_tens.float()/255\n",
    "\n",
    "valid_3_tens.shape, valid_7_tens.shape"
   ]
  },
  {
   "cell_type": "code",
   "execution_count": 31,
   "metadata": {},
   "outputs": [
    {
     "data": {
      "text/plain": [
       "tensor(0.1114)"
      ]
     },
     "execution_count": 31,
     "metadata": {},
     "output_type": "execute_result"
    }
   ],
   "source": [
    "# define a notion of distance—that is, a function that calculates the distance between two images\n",
    "def mnist_distance(a, b): return (a-b).abs().mean((-1, -2))\n",
    "mnist_distance(a_3, mean3)"
   ]
  },
  {
   "cell_type": "markdown",
   "metadata": {},
   "source": [
    "To calculate a metric for overall accuracy, we will need to calculate the distance to the ideal 3 for every image in the validation set."
   ]
  },
  {
   "cell_type": "markdown",
   "metadata": {},
   "source": [
    "How broadcasting is implemented:\n",
    "- PyTorch doesn’t actually copy mean3 1,010 times. It pretends it were a tensor of that shape, but doesn’t allocate any additional memory.\n",
    "- It does the whole calculation in C (or, if you’re using a GPU, in CUDA, the equiv‐ alent of C on the GPU), tens of thousands of times faster than pure Python (up to millions of times faster on a GPU!)."
   ]
  },
  {
   "cell_type": "code",
   "execution_count": 32,
   "metadata": {},
   "outputs": [],
   "source": [
    "# mnist_distance to figure out whether an image is a 3\n",
    "def is_3(x): return mnist_distance(x,mean3) < mnist_distance(x,mean7)"
   ]
  },
  {
   "cell_type": "code",
   "execution_count": 33,
   "metadata": {},
   "outputs": [
    {
     "data": {
      "text/plain": [
       "(tensor(True), tensor(1.))"
      ]
     },
     "execution_count": 33,
     "metadata": {},
     "output_type": "execute_result"
    }
   ],
   "source": [
    "is_3(a_3), is_3(a_3).float()"
   ]
  },
  {
   "cell_type": "code",
   "execution_count": 34,
   "metadata": {},
   "outputs": [
    {
     "data": {
      "text/plain": [
       "tensor([ True,  True,  True,  ..., False,  True,  True])"
      ]
     },
     "execution_count": 34,
     "metadata": {},
     "output_type": "execute_result"
    }
   ],
   "source": [
    "# broadcasting, we can also test it on the full validation set of 3s:\n",
    "is_3(valid_3_tens)"
   ]
  },
  {
   "cell_type": "markdown",
   "metadata": {},
   "source": [
    "Calculate the accuracy for each of the 3s and 7s, by taking the average of that function for all 3s and its inverse for all 7s:"
   ]
  },
  {
   "cell_type": "code",
   "execution_count": 35,
   "metadata": {},
   "outputs": [
    {
     "data": {
      "text/plain": [
       "(tensor(0.9168), tensor(0.9854), tensor(0.9511))"
      ]
     },
     "execution_count": 35,
     "metadata": {},
     "output_type": "execute_result"
    }
   ],
   "source": [
    "accuracy_3s = is_3(valid_3_tens).float().mean()\n",
    "accuracy_7s = (1 - is_3(valid_7_tens).float()).mean()\n",
    "\n",
    "accuracy_3s, accuracy_7s, (accuracy_3s+accuracy_7s)/2"
   ]
  },
  {
   "cell_type": "markdown",
   "metadata": {},
   "source": [
    "## Stochastic Gradient Descent\n",
    "Instead of trying to find the similarity between an image and an “ideal image,” we\n",
    "could instead look at each individual pixel and come up with a set of weights for each."
   ]
  },
  {
   "cell_type": "markdown",
   "metadata": {},
   "source": [
    "To be more specific, here are the steps required to turn this function into a machine\n",
    "learning classifier:\n",
    "1. Initialize the weights.\n",
    "2. For each image, use these weights to predict whether it appears to be a 3 or a 7.\n",
    "3. Based on these predictions, calculate how good the model is (its loss).\n",
    "4. Calculate the gradient, which measures for each weight how changing that weight would change the loss.\n",
    "5. Step (that is, change) all the weights based on that calculation.\n",
    "6. Go back to step 2 and repeat the process.\n",
    "7. Iterate until you decide to stop the training process (for instance, because the model is good enough or you don’t want to wait any longer)."
   ]
  },
  {
   "cell_type": "markdown",
   "metadata": {},
   "source": [
    "**Initialize**\n",
    "    We initialize the parameters to random values.\n",
    "   \n",
    "**Loss**\n",
    "    We need a function that will return a number that is small if the performance of the model is good.\n",
    "    \n",
    "**Step**\n",
    "    A simple way to figure out whether a weight should be increased a bit or decreased a bit would be just to try it. As we will see, the magic of calculus allows us to directly figure out in which direction, and by roughly how much, to change each weight, without having to try all these small changes.\n",
    "    \n",
    "**Stop**\n",
    "    Decided how many epochs to train the model for."
   ]
  },
  {
   "cell_type": "code",
   "execution_count": 36,
   "metadata": {},
   "outputs": [],
   "source": [
    "def plot_function(f, tx=None, ty=None, title=None, min=-2, max=2, figsize=(6,4)):\n",
    "    x = torch.linspace(min,max)\n",
    "    fig,ax = plt.subplots(figsize=figsize)\n",
    "    ax.plot(x,f(x))\n",
    "    if tx is not None: ax.set_xlabel(tx)\n",
    "    if ty is not None: ax.set_ylabel(ty)\n",
    "    if title is not None: ax.set_title(title)"
   ]
  },
  {
   "cell_type": "code",
   "execution_count": 37,
   "metadata": {},
   "outputs": [
    {
     "name": "stderr",
     "output_type": "stream",
     "text": [
      "<ipython-input-36-23f717d23e3a>:2: UserWarning: Not providing a value for linspace's steps is deprecated and will throw a runtime error in a future release. This warning will appear only once per process. (Triggered internally at  ..\\aten\\src\\ATen\\native\\RangeFactories.cpp:23.)\n",
      "  x = torch.linspace(min,max)\n"
     ]
    },
    {
     "data": {
      "image/png": "[encoded data removed]",
      "text/plain": [
       "<Figure size 432x288 with 1 Axes>"
      ]
     },
     "metadata": {
      "needs_background": "light"
     },
     "output_type": "display_data"
    }
   ],
   "source": [
    "# let’s pretend that this is our loss function, and x is a weight parameter of the function:\n",
    "\n",
    "def f(x): return x**2\n",
    "\n",
    "# graph of that function:\n",
    "plot_function(f, 'x', 'x**2')\n"
   ]
  },
  {
   "cell_type": "markdown",
   "metadata": {},
   "source": [
    "The sequence of steps we described earlier starts by picking a random value for a parameter, and calculating the value of the loss:"
   ]
  },
  {
   "cell_type": "code",
   "execution_count": 38,
   "metadata": {},
   "outputs": [
    {
     "data": {
      "text/plain": [
       "<matplotlib.collections.PathCollection at 0x1b0d0f14c40>"
      ]
     },
     "execution_count": 38,
     "metadata": {},
     "output_type": "execute_result"
    },
    {
     "data": {
      "image/png": "[encoded data removed]",
      "text/plain": [
       "<Figure size 432x288 with 1 Axes>"
      ]
     },
     "metadata": {
      "needs_background": "light"
     },
     "output_type": "display_data"
    }
   ],
   "source": [
    "plot_function(f, 'x', 'x**2')\n",
    "plt.scatter(-1.5, f(-1.5), color='red')"
   ]
  },
  {
   "cell_type": "markdown",
   "metadata": {},
   "source": [
    "### Calculating Gradients\n",
    "The gradients will tell us how much we have to change each weight to make our model better."
   ]
  },
  {
   "cell_type": "code",
   "execution_count": 39,
   "metadata": {},
   "outputs": [],
   "source": [
    "# First, let’s pick a tensor value at which we want gradients:\n",
    "xt = tensor(3.).requires_grad_()"
   ]
  },
  {
   "cell_type": "markdown",
   "metadata": {},
   "source": [
    "PyTorch prints not just the value calculated, but also a note that it has a gradient function it’ll be using to calculate our gradients when needed:"
   ]
  },
  {
   "cell_type": "code",
   "execution_count": 40,
   "metadata": {},
   "outputs": [
    {
     "data": {
      "text/plain": [
       "tensor(9., grad_fn=<PowBackward0>)"
      ]
     },
     "execution_count": 40,
     "metadata": {},
     "output_type": "execute_result"
    }
   ],
   "source": [
    "yt = f(xt)\n",
    "yt"
   ]
  },
  {
   "cell_type": "code",
   "execution_count": 41,
   "metadata": {},
   "outputs": [],
   "source": [
    "# Finally, we tell PyTorch to calculate the gradients for us:\n",
    "yt.backward()"
   ]
  },
  {
   "cell_type": "markdown",
   "metadata": {},
   "source": [
    "The “backward” here refers to backpropagation, which is the name given to the process of calculating the derivative of each layer."
   ]
  },
  {
   "cell_type": "code",
   "execution_count": 42,
   "metadata": {},
   "outputs": [
    {
     "data": {
      "text/plain": [
       "tensor(6.)"
      ]
     },
     "execution_count": 42,
     "metadata": {},
     "output_type": "execute_result"
    }
   ],
   "source": [
    "# We can now view the gradients by checking the grad attribute of our tensor:\n",
    "xt.grad"
   ]
  },
  {
   "cell_type": "code",
   "execution_count": 43,
   "metadata": {},
   "outputs": [
    {
     "data": {
      "text/plain": [
       "tensor([ 3.,  4., 10.], requires_grad=True)"
      ]
     },
     "execution_count": 43,
     "metadata": {},
     "output_type": "execute_result"
    }
   ],
   "source": [
    "# repeat the preceding steps, but with a vector argument for our function:\n",
    "\n",
    "xt = tensor([3., 4., 10.]).requires_grad_()\n",
    "xt"
   ]
  },
  {
   "cell_type": "code",
   "execution_count": 44,
   "metadata": {},
   "outputs": [
    {
     "data": {
      "text/plain": [
       "tensor(125., grad_fn=<SumBackward0>)"
      ]
     },
     "execution_count": 44,
     "metadata": {},
     "output_type": "execute_result"
    }
   ],
   "source": [
    "# Add sum to our function so it can take a vector (i.e., a rank-1 tensor) and return a scalar (i.e., a rank-0 tensor):\n",
    "\n",
    "def f(x): return (x**2).sum()\n",
    "\n",
    "yt = f(xt)\n",
    "yt"
   ]
  },
  {
   "cell_type": "code",
   "execution_count": 45,
   "metadata": {},
   "outputs": [
    {
     "data": {
      "text/plain": [
       "tensor([ 6.,  8., 20.])"
      ]
     },
     "execution_count": 45,
     "metadata": {},
     "output_type": "execute_result"
    }
   ],
   "source": [
    "# gradients are 2*xt, as we’d expect\n",
    "\n",
    "yt.backward()\n",
    "xt.grad"
   ]
  },
  {
   "cell_type": "markdown",
   "metadata": {},
   "source": [
    "If the slope is very large, that may suggest that we have more adjustments to do, whereas if the slope is very small, that may suggest that we are close to the optimal value."
   ]
  },
  {
   "cell_type": "markdown",
   "metadata": {},
   "source": [
    "### Stepping with a Learning Rate\n",
    "All approaches start with the basic idea of multiplying the gradient by some small number, called the learning rate (0.001 < LR < 0.1).\n",
    "\n",
    "    w -= w.grad * lr\n",
    "    \n",
    "This is known as stepping your parameters, using an optimization step."
   ]
  },
  {
   "cell_type": "markdown",
   "metadata": {},
   "source": [
    "### An End-to-End SGD Example"
   ]
  },
  {
   "cell_type": "code",
   "execution_count": 46,
   "metadata": {},
   "outputs": [
    {
     "data": {
      "text/plain": [
       "tensor([ 0.,  1.,  2.,  3.,  4.,  5.,  6.,  7.,  8.,  9., 10., 11., 12., 13.,\n",
       "        14., 15., 16., 17., 18., 19.])"
      ]
     },
     "execution_count": 46,
     "metadata": {},
     "output_type": "execute_result"
    }
   ],
   "source": [
    "# measuring the speed manually every second for 20 seconds, it might look something like this:\n",
    "\n",
    "time = torch.arange(0, 20).float(); time"
   ]
  },
  {
   "cell_type": "code",
   "execution_count": 47,
   "metadata": {},
   "outputs": [
    {
     "data": {
      "image/png": "[encoded data removed]",
      "text/plain": [
       "<Figure size 432x288 with 1 Axes>"
      ]
     },
     "metadata": {
      "needs_background": "light"
     },
     "output_type": "display_data"
    }
   ],
   "source": [
    "speed = torch.randn(20)*3 + 0.75*(time-9.5)**2 + 1\n",
    "plt.scatter(time, speed);"
   ]
  },
  {
   "cell_type": "markdown",
   "metadata": {},
   "source": [
    "Using SGD, we can try to find a function that matches our observations. let’s use a guess that it will be quadratic; i.e., a function of the form a x (time^2) + (b x time) + c."
   ]
  },
  {
   "cell_type": "code",
   "execution_count": 48,
   "metadata": {},
   "outputs": [],
   "source": [
    "def f(t, params):\n",
    "    a,b,c = params\n",
    "    return a*(t**2) + (b*t) + c"
   ]
  },
  {
   "cell_type": "markdown",
   "metadata": {},
   "source": [
    "This greatly simplifies the problem, since every quadratic function is fully defined by the three parameters a, b, and c. Thus, to find the best quadratic function, we need to find only the best values for a, b, and c."
   ]
  },
  {
   "cell_type": "markdown",
   "metadata": {},
   "source": [
    "Let’s find the parameters for f first, and then we’ll come back and do the same thing for the MNIST dataset with a neural net.\n",
    "\n",
    "We define this precisely by choosing a loss function, which will return a value based on a prediction and a target, where lower values of the function correspond to “better” predictions. For continuous data, it’s common to use mean squared error:"
   ]
  },
  {
   "cell_type": "code",
   "execution_count": 49,
   "metadata": {},
   "outputs": [],
   "source": [
    "def mse(preds, targets): return ((preds-targets)**2).mean()"
   ]
  },
  {
   "cell_type": "markdown",
   "metadata": {},
   "source": [
    "##### Step 1:Initialize the parameters\n",
    "We initialize the parameters to random values and tell PyTorch that we want to\n",
    "track their gradients using requires_grad_:"
   ]
  },
  {
   "cell_type": "code",
   "execution_count": 50,
   "metadata": {},
   "outputs": [],
   "source": [
    "params = torch.randn(3).requires_grad_()"
   ]
  },
  {
   "cell_type": "markdown",
   "metadata": {},
   "source": [
    "##### Step 2:Calculate the predictions\n",
    "Calculate the predictions:"
   ]
  },
  {
   "cell_type": "code",
   "execution_count": 51,
   "metadata": {},
   "outputs": [],
   "source": [
    "preds = f(time, params)"
   ]
  },
  {
   "cell_type": "markdown",
   "metadata": {},
   "source": [
    "Create a little function to see how close our predictions are to our targets, and take a look:"
   ]
  },
  {
   "cell_type": "code",
   "execution_count": 52,
   "metadata": {},
   "outputs": [
    {
     "data": {
      "image/png": "[encoded data removed]",
      "text/plain": [
       "<Figure size 432x288 with 1 Axes>"
      ]
     },
     "metadata": {
      "needs_background": "light"
     },
     "output_type": "display_data"
    }
   ],
   "source": [
    "def show_preds(preds, ax=None):\n",
    "    if ax is None: ax=plt.subplots()[1]\n",
    "    ax.scatter(time, speed)\n",
    "    ax.scatter(time, to_np(preds), color='red')\n",
    "    ax.set_ylim(-300,100)\n",
    "    \n",
    "show_preds(preds)"
   ]
  },
  {
   "cell_type": "markdown",
   "metadata": {},
   "source": [
    "##### Step 3:Calculate the loss\n",
    "Calculate the loss as follows:"
   ]
  },
  {
   "cell_type": "code",
   "execution_count": 53,
   "metadata": {},
   "outputs": [
    {
     "data": {
      "text/plain": [
       "tensor(1044.2966, grad_fn=<MeanBackward0>)"
      ]
     },
     "execution_count": 53,
     "metadata": {},
     "output_type": "execute_result"
    }
   ],
   "source": [
    "loss = mse(preds, speed)\n",
    "loss"
   ]
  },
  {
   "cell_type": "markdown",
   "metadata": {},
   "source": [
    "Our goal is now to improve this. To do that, we’ll need to know the gradients."
   ]
  },
  {
   "cell_type": "markdown",
   "metadata": {},
   "source": [
    "##### Step 4: Calculate the gradients\n",
    "The next step is to calculate the gradients, or an approximation of how the parame‐\n",
    "ters need to change:"
   ]
  },
  {
   "cell_type": "code",
   "execution_count": 54,
   "metadata": {},
   "outputs": [
    {
     "data": {
      "text/plain": [
       "tensor([6411.7070,  435.6167,   14.3070])"
      ]
     },
     "execution_count": 54,
     "metadata": {},
     "output_type": "execute_result"
    }
   ],
   "source": [
    "loss.backward()\n",
    "params.grad"
   ]
  },
  {
   "cell_type": "code",
   "execution_count": 55,
   "metadata": {},
   "outputs": [
    {
     "data": {
      "text/plain": [
       "tensor([0.0641, 0.0044, 0.0001])"
      ]
     },
     "execution_count": 55,
     "metadata": {},
     "output_type": "execute_result"
    }
   ],
   "source": [
    "params.grad * 1e-5"
   ]
  },
  {
   "cell_type": "markdown",
   "metadata": {},
   "source": [
    "Use these gradients to improve our parameters. We’ll need to pick a learning rate."
   ]
  },
  {
   "cell_type": "code",
   "execution_count": 56,
   "metadata": {},
   "outputs": [
    {
     "data": {
      "text/plain": [
       "tensor([ 0.1677,  1.3343, -1.1511], requires_grad=True)"
      ]
     },
     "execution_count": 56,
     "metadata": {},
     "output_type": "execute_result"
    }
   ],
   "source": [
    "params"
   ]
  },
  {
   "cell_type": "markdown",
   "metadata": {},
   "source": [
    "##### Step 5: Step the weights\n",
    "Now we need to update the parameters based on the gradients we just calculated:"
   ]
  },
  {
   "cell_type": "code",
   "execution_count": 57,
   "metadata": {},
   "outputs": [],
   "source": [
    "lr = 1e-5\n",
    "params.data -= lr * params.grad.data\n",
    "params.grad = None"
   ]
  },
  {
   "cell_type": "code",
   "execution_count": 58,
   "metadata": {},
   "outputs": [
    {
     "data": {
      "text/plain": [
       "tensor(747.9659, grad_fn=<MeanBackward0>)"
      ]
     },
     "execution_count": 58,
     "metadata": {},
     "output_type": "execute_result"
    }
   ],
   "source": [
    "# let's see if the loss is improved:\n",
    "preds = f(time,params)\n",
    "mse(preds, speed)"
   ]
  },
  {
   "cell_type": "code",
   "execution_count": 59,
   "metadata": {},
   "outputs": [
    {
     "data": {
      "image/png": "[encoded data removed]",
      "text/plain": [
       "<Figure size 432x288 with 1 Axes>"
      ]
     },
     "metadata": {
      "needs_background": "light"
     },
     "output_type": "display_data"
    }
   ],
   "source": [
    "# And take a look at the plot:\n",
    "show_preds(preds)"
   ]
  },
  {
   "cell_type": "code",
   "execution_count": 60,
   "metadata": {},
   "outputs": [],
   "source": [
    "# We need to repeat this a few times, so we’ll create a function to apply one step:\n",
    " \n",
    "def apply_step(params, prn=True):\n",
    "    preds = f(time, params)\n",
    "    loss = mse(preds, speed)\n",
    "    loss.backward()\n",
    "    params.data -= lr * params.grad.data\n",
    "    params.grad = None\n",
    "    if prn: print(loss.item())\n",
    "    return preds"
   ]
  },
  {
   "cell_type": "markdown",
   "metadata": {},
   "source": [
    "##### Step 6: Repeat the process\n",
    "Now we iterate. By looping and performing many improvements, we hope to reach a good result:"
   ]
  },
  {
   "cell_type": "code",
   "execution_count": 61,
   "metadata": {},
   "outputs": [
    {
     "name": "stdout",
     "output_type": "stream",
     "text": [
      "747.9659423828125\n",
      "691.884765625\n",
      "681.2664184570312\n",
      "679.2507934570312\n",
      "678.8630981445312\n",
      "678.7835083007812\n",
      "678.7621459960938\n",
      "678.7518310546875\n",
      "678.7435913085938\n",
      "678.7357788085938\n"
     ]
    }
   ],
   "source": [
    "for i in range(10): apply_step(params)"
   ]
  },
  {
   "cell_type": "markdown",
   "metadata": {},
   "source": [
    "We can see this process visually, Then we can see how the shape is approaching the best possible quadratic function for our data:"
   ]
  },
  {
   "cell_type": "code",
   "execution_count": 62,
   "metadata": {},
   "outputs": [
    {
     "data": {
      "image/png": "[encoded data removed]",
      "text/plain": [
       "<Figure size 864x216 with 4 Axes>"
      ]
     },
     "metadata": {
      "needs_background": "light"
     },
     "output_type": "display_data"
    }
   ],
   "source": [
    "_, axs = plt.subplots(1,4,figsize=(12,3))\n",
    "for ax in axs: show_preds(apply_step(params, False), ax)\n",
    "plt.tight_layout()"
   ]
  },
  {
   "cell_type": "markdown",
   "metadata": {},
   "source": [
    "##### Step 7: Stop\n",
    "We just decided to stop after 10 epochs arbitrarily. In practice, we would watch the training and validation losses and our metrics to decide when to stop"
   ]
  },
  {
   "cell_type": "markdown",
   "metadata": {},
   "source": [
    "## The MNIST Loss Function\n",
    "- We’ll concatenate them all into a single tensor\n",
    "- Change them from a list of matrices (a rank-3 tensor) to a list of vectors (a rank-2 tensor).\n",
    "\n",
    "Using view, which is a PyTorch method that changes the shape of a tensor without changing its contents. -1 is a special parameter to view that means “make this axis as big as necessary to fit all the data”:"
   ]
  },
  {
   "cell_type": "code",
   "execution_count": 63,
   "metadata": {},
   "outputs": [],
   "source": [
    "train_x = torch.cat([stacked_threes, stacked_sevens]).view(-1, 28*28)"
   ]
  },
  {
   "cell_type": "markdown",
   "metadata": {},
   "source": [
    "We need a label for each image. We’ll use 1 for 3s and 0 for 7s:"
   ]
  },
  {
   "cell_type": "code",
   "execution_count": 64,
   "metadata": {},
   "outputs": [
    {
     "data": {
      "text/plain": [
       "(torch.Size([12396, 784]), torch.Size([12396, 1]))"
      ]
     },
     "execution_count": 64,
     "metadata": {},
     "output_type": "execute_result"
    }
   ],
   "source": [
    "train_y = tensor([1]*len(threes) + [0]*len(sevens)).unsqueeze(1)\n",
    "\n",
    "train_x.shape, train_y.shape"
   ]
  },
  {
   "cell_type": "code",
   "execution_count": 65,
   "metadata": {
    "scrolled": true
   },
   "outputs": [
    {
     "data": {
      "text/plain": [
       "(torch.Size([784]), tensor([1]))"
      ]
     },
     "execution_count": 65,
     "metadata": {},
     "output_type": "execute_result"
    }
   ],
   "source": [
    "# A Dataset in PyTorch is required to return a tuple of (x,y) when indexed.\n",
    "\n",
    "dset = list(zip(train_x,train_y))\n",
    "x,y = dset[6000]\n",
    "x.shape,y"
   ]
  },
  {
   "cell_type": "code",
   "execution_count": 66,
   "metadata": {},
   "outputs": [],
   "source": [
    "valid_x = torch.cat([valid_3_tens, valid_7_tens]).view(-1, 28*28)\n",
    "valid_y = tensor([1]*len(valid_3_tens) + [0]*len(valid_7_tens)).unsqueeze(1)\n",
    "valid_dset = list(zip(valid_x,valid_y))"
   ]
  },
  {
   "cell_type": "code",
   "execution_count": 67,
   "metadata": {},
   "outputs": [],
   "source": [
    "# Initialize random weight for every pixel:\n",
    "def init_params(size, std=1.0): return (torch.randn(size)*std).requires_grad_()\n",
    "\n",
    "weights = init_params((28*28,1))"
   ]
  },
  {
   "cell_type": "markdown",
   "metadata": {},
   "source": [
    "For protecting y to become 0 if x is 0. y=w*x+b; we still need the b. We’ll initialize it to a random number too:"
   ]
  },
  {
   "cell_type": "code",
   "execution_count": 68,
   "metadata": {},
   "outputs": [],
   "source": [
    "bias = init_params(1)"
   ]
  },
  {
   "cell_type": "markdown",
   "metadata": {},
   "source": [
    "In neural networks, the w in the equation y=w*x+b is called the weights, and the b is called the bias. Together, the weights and bias make up the parameters"
   ]
  },
  {
   "cell_type": "code",
   "execution_count": 69,
   "metadata": {},
   "outputs": [
    {
     "data": {
      "text/plain": [
       "tensor([-4.6767], grad_fn=<AddBackward0>)"
      ]
     },
     "execution_count": 69,
     "metadata": {},
     "output_type": "execute_result"
    }
   ],
   "source": [
    "# calculate a prediction for one image:\n",
    "(train_x[0]*weights.T).sum() + bias"
   ]
  },
  {
   "cell_type": "code",
   "execution_count": 70,
   "metadata": {
    "scrolled": true
   },
   "outputs": [
    {
     "data": {
      "text/plain": [
       "tensor([[-4.6767],\n",
       "        [ 1.7189],\n",
       "        [-2.5004],\n",
       "        ...,\n",
       "        [ 8.8269],\n",
       "        [-3.2641],\n",
       "        [13.3538]], grad_fn=<AddBackward0>)"
      ]
     },
     "execution_count": 70,
     "metadata": {},
     "output_type": "execute_result"
    }
   ],
   "source": [
    "# In Python, matrix multiplication is represented with the @ operator. Let’s try it:\n",
    "\n",
    "def linear1(xb): return xb@weights + bias\n",
    "preds = linear1(train_x)\n",
    "preds"
   ]
  },
  {
   "cell_type": "code",
   "execution_count": 71,
   "metadata": {
    "scrolled": true
   },
   "outputs": [
    {
     "data": {
      "text/plain": [
       "tensor([[False],\n",
       "        [ True],\n",
       "        [False],\n",
       "        ...,\n",
       "        [False],\n",
       "        [ True],\n",
       "        [False]])"
      ]
     },
     "execution_count": 71,
     "metadata": {},
     "output_type": "execute_result"
    }
   ],
   "source": [
    "corrects = (preds>0.0).float() == train_y\n",
    "corrects"
   ]
  },
  {
   "cell_type": "code",
   "execution_count": 72,
   "metadata": {
    "scrolled": true
   },
   "outputs": [
    {
     "data": {
      "text/plain": [
       "0.4678122103214264"
      ]
     },
     "execution_count": 72,
     "metadata": {},
     "output_type": "execute_result"
    }
   ],
   "source": [
    "corrects.float().mean().item()"
   ]
  },
  {
   "cell_type": "code",
   "execution_count": 73,
   "metadata": {
    "scrolled": true
   },
   "outputs": [
    {
     "ename": "RuntimeError",
     "evalue": "a view of a leaf Variable that requires grad is being used in an in-place operation.",
     "output_type": "error",
     "traceback": [
      "\u001b[1;31m---------------------------------------------------------------------------\u001b[0m",
      "\u001b[1;31mRuntimeError\u001b[0m                              Traceback (most recent call last)",
      "\u001b[1;32m<ipython-input-73-e8f7d6ce2a35>\u001b[0m in \u001b[0;36m<module>\u001b[1;34m\u001b[0m\n\u001b[0;32m      1\u001b[0m \u001b[1;31m# let’s see what the change in accuracy is for a small change in one of the weights:\u001b[0m\u001b[1;33m\u001b[0m\u001b[1;33m\u001b[0m\u001b[1;33m\u001b[0m\u001b[0m\n\u001b[0;32m      2\u001b[0m \u001b[1;33m\u001b[0m\u001b[0m\n\u001b[1;32m----> 3\u001b[1;33m \u001b[0mweights\u001b[0m\u001b[1;33m[\u001b[0m\u001b[1;36m0\u001b[0m\u001b[1;33m]\u001b[0m \u001b[1;33m*=\u001b[0m \u001b[1;36m1.0001\u001b[0m\u001b[1;33m\u001b[0m\u001b[1;33m\u001b[0m\u001b[0m\n\u001b[0m\u001b[0;32m      4\u001b[0m \u001b[1;33m\u001b[0m\u001b[0m\n\u001b[0;32m      5\u001b[0m \u001b[0mpreds\u001b[0m \u001b[1;33m=\u001b[0m \u001b[0mlinear1\u001b[0m\u001b[1;33m(\u001b[0m\u001b[0mtrain_x\u001b[0m\u001b[1;33m)\u001b[0m\u001b[1;33m\u001b[0m\u001b[1;33m\u001b[0m\u001b[0m\n",
      "\u001b[1;31mRuntimeError\u001b[0m: a view of a leaf Variable that requires grad is being used in an in-place operation."
     ]
    }
   ],
   "source": [
    "# let’s see what the change in accuracy is for a small change in one of the weights:\n",
    "\n",
    "weights[0] *= 1.0001\n",
    "\n",
    "preds = linear1(train_x)\n",
    "((preds>0.0).float() == train_y).float().mean().item()"
   ]
  },
  {
   "cell_type": "code",
   "execution_count": 74,
   "metadata": {},
   "outputs": [],
   "source": [
    "with torch.no_grad():\n",
    "    weights[0] *= 1.0001\n",
    "    "
   ]
  },
  {
   "cell_type": "code",
   "execution_count": 75,
   "metadata": {},
   "outputs": [
    {
     "data": {
      "text/plain": [
       "0.4678122103214264"
      ]
     },
     "execution_count": 75,
     "metadata": {},
     "output_type": "execute_result"
    }
   ],
   "source": [
    "preds = linear1(train_x)\n",
    "((preds>0.0).float() == train_y).float().mean().item()"
   ]
  },
  {
   "cell_type": "markdown",
   "metadata": {},
   "source": [
    "###### SGD > gradient > loss function\n",
    "Loss Function receives:    \n",
    "- Predictions: one argument, prds: 0 < prds < 1 : rank-1 tensor\n",
    "- Targets(labels): another argument, trgts: 0 or 1 : rank-1 tensor"
   ]
  },
  {
   "cell_type": "code",
   "execution_count": 76,
   "metadata": {},
   "outputs": [],
   "source": [
    "trgts = tensor([1,0,1])\n",
    "prds = tensor([0.9, 0.4, 0.2])"
   ]
  },
  {
   "cell_type": "code",
   "execution_count": 77,
   "metadata": {},
   "outputs": [],
   "source": [
    "# a loss function that measures the distance between predictions and targets:\n",
    "\n",
    "def mnist_loss(predictions, targets):\n",
    "    return torch.where(targets==1, 1-predictions, predictions).mean()"
   ]
  },
  {
   "cell_type": "markdown",
   "metadata": {},
   "source": [
    "This function will measure how distant each prediction is from 1 if it should be 1, and how distant it is from 0 if it should be 0, and then it will take the mean of all those distances."
   ]
  },
  {
   "cell_type": "code",
   "execution_count": 78,
   "metadata": {},
   "outputs": [
    {
     "data": {
      "text/plain": [
       "tensor([0.1000, 0.4000, 0.8000])"
      ]
     },
     "execution_count": 78,
     "metadata": {},
     "output_type": "execute_result"
    }
   ],
   "source": [
    "# try it on our prds and trgts:\n",
    "torch.where(trgts==1, 1-prds, prds)"
   ]
  },
  {
   "cell_type": "code",
   "execution_count": 79,
   "metadata": {},
   "outputs": [
    {
     "data": {
      "text/plain": [
       "tensor(0.4333)"
      ]
     },
     "execution_count": 79,
     "metadata": {},
     "output_type": "execute_result"
    }
   ],
   "source": [
    "# scalar for the final loss, mnist_loss takes the mean of the previous tensor:\n",
    "mnist_loss(prds,trgts)"
   ]
  },
  {
   "cell_type": "markdown",
   "metadata": {},
   "source": [
    "change our prediction for the one “false” target from 0.2 to 0.8, the loss will go down, indicating that this is a better prediction:"
   ]
  },
  {
   "cell_type": "code",
   "execution_count": 80,
   "metadata": {},
   "outputs": [
    {
     "data": {
      "text/plain": [
       "tensor(0.2333)"
      ]
     },
     "execution_count": 80,
     "metadata": {},
     "output_type": "execute_result"
    }
   ],
   "source": [
    "mnist_loss(tensor([0.9,0.4,0.8]),trgts)"
   ]
  },
  {
   "cell_type": "markdown",
   "metadata": {},
   "source": [
    "### Sigmoid\n",
    "The sigmoid function always outputs a number between 0 and 1. It’s defined as follows:"
   ]
  },
  {
   "cell_type": "code",
   "execution_count": 81,
   "metadata": {},
   "outputs": [],
   "source": [
    "def sigmoid(x): return 1/(1+torch.exp(-x))"
   ]
  },
  {
   "cell_type": "code",
   "execution_count": 82,
   "metadata": {},
   "outputs": [
    {
     "data": {
      "image/png": "[encoded data removed]",
      "text/plain": [
       "<Figure size 432x288 with 1 Axes>"
      ]
     },
     "metadata": {
      "needs_background": "light"
     },
     "output_type": "display_data"
    }
   ],
   "source": [
    "plot_function(torch.sigmoid, title='Sigmoid', min=-4, max=4)"
   ]
  },
  {
   "cell_type": "markdown",
   "metadata": {},
   "source": [
    "It takes any input value, positive or negative, and smooshes it into an output value between 0 and 1."
   ]
  },
  {
   "cell_type": "code",
   "execution_count": 83,
   "metadata": {},
   "outputs": [],
   "source": [
    "# update mnist_loss to first apply sigmoid to the inputs:\n",
    "\n",
    "def mnist_loss(predictions, targets):\n",
    "    predictions = predictions.sigmoid()\n",
    "    return torch.where(targets==1, 1-predictions, predictions).mean()"
   ]
  },
  {
   "cell_type": "markdown",
   "metadata": {},
   "source": [
    "Loss function will work, even if the predictions are not\n",
    "between 0 and 1. All that is required is that a higher prediction corresponds to higher\n",
    "confidence."
   ]
  },
  {
   "cell_type": "markdown",
   "metadata": {},
   "source": [
    "Metric is to drive human understanding and the loss is to drive automated learning."
   ]
  },
  {
   "cell_type": "markdown",
   "metadata": {},
   "source": [
    "We learn to focus on these metrics, rather than the loss, when judging\n",
    "the performance of a model."
   ]
  },
  {
   "cell_type": "markdown",
   "metadata": {},
   "source": [
    "### SGD and Mini-Batches\n",
    "To change or update the weights based on the gradients. This is called an optimization step.\n",
    "\n",
    "To take an optimization step, we need to calculate the loss over one or more data items. Calculating whole dataset or single item is not Ideal. So we use few data at a time: mini-batch (no. of data items: batch size)\n",
    "\n",
    "PyTorch and fastai provide a class that will do the shuffling and mini-batch collation for you, called DataLoader."
   ]
  },
  {
   "cell_type": "code",
   "execution_count": 84,
   "metadata": {},
   "outputs": [
    {
     "data": {
      "text/plain": [
       "[tensor([ 3, 11,  4,  7, 13]),\n",
       " tensor([ 0,  2, 14, 12,  5]),\n",
       " tensor([ 9,  8,  6, 10,  1])]"
      ]
     },
     "execution_count": 84,
     "metadata": {},
     "output_type": "execute_result"
    }
   ],
   "source": [
    "# A DataLoader can take any Python collection and turn it into an iterator over many batches, like so:\n",
    "coll = range(15)\n",
    "dl = DataLoader(coll, batch_size=5, shuffle=True)\n",
    "list(dl)"
   ]
  },
  {
   "cell_type": "markdown",
   "metadata": {},
   "source": [
    "For training a model, a collection containing independent and dependent variables (the inputs and targets of the model). A collection that contains tuples of independent and dependent variables is known in PyTorch as a Dataset"
   ]
  },
  {
   "cell_type": "code",
   "execution_count": 85,
   "metadata": {},
   "outputs": [
    {
     "data": {
      "text/plain": [
       "(#26) [(0, 'a'),(1, 'b'),(2, 'c'),(3, 'd'),(4, 'e'),(5, 'f'),(6, 'g'),(7, 'h'),(8, 'i'),(9, 'j')...]"
      ]
     },
     "execution_count": 85,
     "metadata": {},
     "output_type": "execute_result"
    }
   ],
   "source": [
    "# example of an extremely simple Dataset:\n",
    "\n",
    "ds = L(enumerate(string.ascii_lowercase))\n",
    "ds"
   ]
  },
  {
   "cell_type": "code",
   "execution_count": 86,
   "metadata": {},
   "outputs": [
    {
     "data": {
      "text/plain": [
       "[(tensor([ 7,  9, 18, 10, 21, 15]), ('h', 'j', 's', 'k', 'v', 'p')),\n",
       " (tensor([16, 20, 12,  5,  0,  2]), ('q', 'u', 'm', 'f', 'a', 'c')),\n",
       " (tensor([ 4, 13, 19, 11,  6, 24]), ('e', 'n', 't', 'l', 'g', 'y')),\n",
       " (tensor([25, 23,  8, 17,  1, 22]), ('z', 'x', 'i', 'r', 'b', 'w')),\n",
       " (tensor([ 3, 14]), ('d', 'o'))]"
      ]
     },
     "execution_count": 86,
     "metadata": {},
     "output_type": "execute_result"
    }
   ],
   "source": [
    "# pass a Dataset to a DataLoader:\n",
    "dl = DataLoader(ds, batch_size=6, shuffle=True)\n",
    "list(dl)"
   ]
  },
  {
   "cell_type": "markdown",
   "metadata": {},
   "source": [
    "## Putting It All Together"
   ]
  },
  {
   "cell_type": "code",
   "execution_count": 87,
   "metadata": {},
   "outputs": [
    {
     "ename": "NameError",
     "evalue": "name 'model' is not defined",
     "output_type": "error",
     "traceback": [
      "\u001b[1;31m---------------------------------------------------------------------------\u001b[0m",
      "\u001b[1;31mNameError\u001b[0m                                 Traceback (most recent call last)",
      "\u001b[1;32m<ipython-input-87-069effe6e19c>\u001b[0m in \u001b[0;36m<module>\u001b[1;34m\u001b[0m\n\u001b[0;32m      2\u001b[0m \u001b[1;33m\u001b[0m\u001b[0m\n\u001b[0;32m      3\u001b[0m \u001b[1;32mfor\u001b[0m \u001b[0mx\u001b[0m\u001b[1;33m,\u001b[0m\u001b[0my\u001b[0m \u001b[1;32min\u001b[0m \u001b[0mdl\u001b[0m\u001b[1;33m:\u001b[0m\u001b[1;33m\u001b[0m\u001b[1;33m\u001b[0m\u001b[0m\n\u001b[1;32m----> 4\u001b[1;33m     \u001b[0mpred\u001b[0m \u001b[1;33m=\u001b[0m \u001b[0mmodel\u001b[0m\u001b[1;33m(\u001b[0m\u001b[0mx\u001b[0m\u001b[1;33m)\u001b[0m\u001b[1;33m\u001b[0m\u001b[1;33m\u001b[0m\u001b[0m\n\u001b[0m\u001b[0;32m      5\u001b[0m     \u001b[0mloss\u001b[0m \u001b[1;33m=\u001b[0m \u001b[0mloss_func\u001b[0m\u001b[1;33m(\u001b[0m\u001b[0mpred\u001b[0m\u001b[1;33m,\u001b[0m \u001b[0my\u001b[0m\u001b[1;33m)\u001b[0m\u001b[1;33m\u001b[0m\u001b[1;33m\u001b[0m\u001b[0m\n\u001b[0;32m      6\u001b[0m     \u001b[0mloss\u001b[0m\u001b[1;33m.\u001b[0m\u001b[0mbachward\u001b[0m\u001b[1;33m(\u001b[0m\u001b[1;33m)\u001b[0m\u001b[1;33m\u001b[0m\u001b[1;33m\u001b[0m\u001b[0m\n",
      "\u001b[1;31mNameError\u001b[0m: name 'model' is not defined"
     ]
    }
   ],
   "source": [
    "# In code, our process will be implemented something like this for each epoch:\n",
    "\n",
    "for x,y in dl:\n",
    "    pred = model(x)\n",
    "    loss = loss_func(pred, y)\n",
    "    loss.bachward()\n",
    "    parameters -= parameters.grad * lr"
   ]
  },
  {
   "cell_type": "code",
   "execution_count": 88,
   "metadata": {},
   "outputs": [],
   "source": [
    "# First, let’s reinitialize our parameters:\n",
    "\n",
    "weights = init_params((28 * 28, 1))\n",
    "bias = init_params(1)"
   ]
  },
  {
   "cell_type": "code",
   "execution_count": 89,
   "metadata": {},
   "outputs": [
    {
     "data": {
      "text/plain": [
       "(torch.Size([256, 784]), torch.Size([256, 1]))"
      ]
     },
     "execution_count": 89,
     "metadata": {},
     "output_type": "execute_result"
    }
   ],
   "source": [
    "# A DataLoader can be created from a Dataset:\n",
    "dl = DataLoader(dset, batch_size=256)\n",
    "xb,yb = first(dl)\n",
    "xb.shape,yb.shape"
   ]
  },
  {
   "cell_type": "code",
   "execution_count": 90,
   "metadata": {},
   "outputs": [],
   "source": [
    "# We’ll do the same for the validation set:\n",
    "\n",
    "valid_dl = DataLoader(valid_dset, batch_size=256)"
   ]
  },
  {
   "cell_type": "code",
   "execution_count": 91,
   "metadata": {},
   "outputs": [
    {
     "data": {
      "text/plain": [
       "torch.Size([4, 784])"
      ]
     },
     "execution_count": 91,
     "metadata": {},
     "output_type": "execute_result"
    }
   ],
   "source": [
    "# Let's create a mini-batch of size 4 for testing:\n",
    "\n",
    "batch = train_x[:4]\n",
    "batch.shape"
   ]
  },
  {
   "cell_type": "code",
   "execution_count": 92,
   "metadata": {},
   "outputs": [
    {
     "data": {
      "text/plain": [
       "tensor([[-27.3501],\n",
       "        [-29.2108],\n",
       "        [-18.2972],\n",
       "        [-22.8321]], grad_fn=<AddBackward0>)"
      ]
     },
     "execution_count": 92,
     "metadata": {},
     "output_type": "execute_result"
    }
   ],
   "source": [
    "preds = linear1(batch)\n",
    "preds"
   ]
  },
  {
   "cell_type": "code",
   "execution_count": 93,
   "metadata": {},
   "outputs": [
    {
     "data": {
      "text/plain": [
       "tensor(1., grad_fn=<MeanBackward0>)"
      ]
     },
     "execution_count": 93,
     "metadata": {},
     "output_type": "execute_result"
    }
   ],
   "source": [
    "loss = mnist_loss(preds, train_y[:4])\n",
    "loss"
   ]
  },
  {
   "cell_type": "code",
   "execution_count": 94,
   "metadata": {},
   "outputs": [
    {
     "data": {
      "text/plain": [
       "(torch.Size([784, 1]), tensor(-4.1113e-10), tensor([-2.8594e-09]))"
      ]
     },
     "execution_count": 94,
     "metadata": {},
     "output_type": "execute_result"
    }
   ],
   "source": [
    "# Now we can calculate the gradients:\n",
    "\n",
    "loss.backward()\n",
    "weights.grad.shape, weights.grad.mean(), bias.grad"
   ]
  },
  {
   "cell_type": "code",
   "execution_count": 95,
   "metadata": {},
   "outputs": [],
   "source": [
    "# Let’s put that all in a function:\n",
    "\n",
    "def calc_grad(xb, yb, model):\n",
    "    preds = model(xb)\n",
    "    loss = mnist_loss(preds, yb)\n",
    "    loss.backward()"
   ]
  },
  {
   "cell_type": "code",
   "execution_count": 96,
   "metadata": {},
   "outputs": [
    {
     "data": {
      "text/plain": [
       "(tensor(-8.2226e-10), tensor([-5.7188e-09]))"
      ]
     },
     "execution_count": 96,
     "metadata": {},
     "output_type": "execute_result"
    }
   ],
   "source": [
    "# And test it:\n",
    "\n",
    "calc_grad(batch, train_y[:4], linear1)\n",
    "weights.grad.mean(),bias.grad"
   ]
  },
  {
   "cell_type": "code",
   "execution_count": 97,
   "metadata": {},
   "outputs": [
    {
     "data": {
      "text/plain": [
       "(tensor(-1.2334e-09), tensor([-8.5782e-09]))"
      ]
     },
     "execution_count": 97,
     "metadata": {},
     "output_type": "execute_result"
    }
   ],
   "source": [
    "# But look what happens if we call it twice:\n",
    "\n",
    "calc_grad(batch, train_y[:4], linear1)\n",
    "weights.grad.mean(), bias.grad"
   ]
  },
  {
   "cell_type": "markdown",
   "metadata": {},
   "source": [
    "The gradients have changed! The reason for this is that loss.backward adds the gradients of loss to any gradients that are currently stored. "
   ]
  },
  {
   "cell_type": "code",
   "execution_count": 98,
   "metadata": {},
   "outputs": [],
   "source": [
    "# set the current gradients to 0 first:\n",
    "\n",
    "weights.grad.zero_()\n",
    "bias.grad.zero_();"
   ]
  },
  {
   "cell_type": "markdown",
   "metadata": {},
   "source": [
    "Update the weights and biases based on the gradient and learning rate. When we do so, we have to tell PyTorch not to take the gradient of this step too. If we assign to the data attribute of a tensor, PyTorch will not take the gradient of that step."
   ]
  },
  {
   "cell_type": "code",
   "execution_count": 99,
   "metadata": {},
   "outputs": [],
   "source": [
    "# basic training loop for an epoch:\n",
    "\n",
    "def train_epoch(model, lr, params):\n",
    "    for xb,yb in dl:\n",
    "        calc_grad(xb,yb,model)\n",
    "        for p in params:\n",
    "            p.data -= p.grad*lr\n",
    "            p.grad.zero_()"
   ]
  },
  {
   "cell_type": "markdown",
   "metadata": {},
   "source": [
    "To decide if an output represents a 3 or a 7, we can just check whether it’s greater than 0."
   ]
  },
  {
   "cell_type": "code",
   "execution_count": 100,
   "metadata": {},
   "outputs": [
    {
     "data": {
      "text/plain": [
       "tensor([[False],\n",
       "        [False],\n",
       "        [False],\n",
       "        [False]])"
      ]
     },
     "execution_count": 100,
     "metadata": {},
     "output_type": "execute_result"
    }
   ],
   "source": [
    "# accuracy for each item can be calculated as follows:\n",
    "\n",
    "(preds>0.0).float() == train_y[:4]"
   ]
  },
  {
   "cell_type": "code",
   "execution_count": 101,
   "metadata": {},
   "outputs": [],
   "source": [
    "# That gives us this function to calculate our validation accuracy:\n",
    "\n",
    "def batch_accuracy(xb, yb):\n",
    "    preds = xb.sigmoid()\n",
    "    correct = (preds>0.5) == yb\n",
    "    return correct.float().mean()"
   ]
  },
  {
   "cell_type": "code",
   "execution_count": 102,
   "metadata": {},
   "outputs": [
    {
     "data": {
      "text/plain": [
       "tensor(0.)"
      ]
     },
     "execution_count": 102,
     "metadata": {},
     "output_type": "execute_result"
    }
   ],
   "source": [
    "# We can check it works:\n",
    "\n",
    "batch_accuracy(linear1(batch), train_y[:4])"
   ]
  },
  {
   "cell_type": "code",
   "execution_count": 103,
   "metadata": {},
   "outputs": [
    {
     "data": {
      "text/plain": [
       "0.5047"
      ]
     },
     "execution_count": 103,
     "metadata": {},
     "output_type": "execute_result"
    }
   ],
   "source": [
    "# And then put the batches together:\n",
    "\n",
    "def validate_epoch(model):\n",
    "    accs = [batch_accuracy(model(xb), yb) for xb,yb in valid_dl]\n",
    "    return round(torch.stack(accs).mean().item(), 4)\n",
    "\n",
    "validate_epoch(linear1)"
   ]
  },
  {
   "cell_type": "code",
   "execution_count": 104,
   "metadata": {},
   "outputs": [
    {
     "data": {
      "text/plain": [
       "0.5752"
      ]
     },
     "execution_count": 104,
     "metadata": {},
     "output_type": "execute_result"
    }
   ],
   "source": [
    "# That’s our starting point. Let’s train for one epoch and see if the accuracy improves:\n",
    "\n",
    "lr = 1\n",
    "params = weights,bias\n",
    "train_epoch(linear1, lr, params)\n",
    "validate_epoch(linear1)"
   ]
  },
  {
   "cell_type": "code",
   "execution_count": 105,
   "metadata": {},
   "outputs": [
    {
     "name": "stdout",
     "output_type": "stream",
     "text": [
      "0.7709 0.8813 0.9194 0.9413 0.9501 0.955 0.9579 0.9594 0.9623 0.9638 0.9643 0.9653 0.9667 0.9687 0.9687 0.9697 0.9697 0.9707 0.9712 0.9731 "
     ]
    }
   ],
   "source": [
    "# Then do a few more:\n",
    "\n",
    "for i in range(20):\n",
    "    train_epoch(linear1, lr, params)\n",
    "    print(validate_epoch(linear1), end=' ')"
   ]
  },
  {
   "cell_type": "markdown",
   "metadata": {},
   "source": [
    "Our next step will be to create an object that will handle the SGD step for us. In PyTorch, it’s called an optimizer."
   ]
  },
  {
   "cell_type": "markdown",
   "metadata": {},
   "source": [
    "### Creating an Optimizer\n",
    "\n",
    "The first thing we can do is replace our linear function with PyTorch’s nn.Linear module. A module is an object of a class that inherits from the PyTorch nn.Module class.\n",
    "\n",
    "nn.Linear = init_params + linear"
   ]
  },
  {
   "cell_type": "code",
   "execution_count": null,
   "metadata": {},
   "outputs": [],
   "source": [
    "linear_model = nn.Linear(28*28,1)"
   ]
  },
  {
   "cell_type": "code",
   "execution_count": null,
   "metadata": {},
   "outputs": [],
   "source": [
    "# Parameters are available through the parameters method:\n",
    "\n",
    "w, b = linear_model.parameters()\n",
    "w.shape,b.shape"
   ]
  },
  {
   "cell_type": "code",
   "execution_count": null,
   "metadata": {},
   "outputs": [],
   "source": [
    "# We can use this information to create an optimizer:\n",
    "\n",
    "class BasicOptim:\n",
    "    def __init__(self,params,lr): self.params,self.lr = list(params),lr\n",
    "        \n",
    "    def step(self, *args, **kwargs):\n",
    "        for p in self.params: p.data -= p.grad.data * self.lr\n",
    "            \n",
    "    def zero_grad(self, *args, **kwargs):\n",
    "        for p in self.params: p.grad = None"
   ]
  },
  {
   "cell_type": "code",
   "execution_count": null,
   "metadata": {},
   "outputs": [],
   "source": [
    "# We can create our optimizer by passing in the model’s parameters:\n",
    "\n",
    "opt = BasicOptim(linear_model.parameters(), lr)"
   ]
  },
  {
   "cell_type": "code",
   "execution_count": null,
   "metadata": {},
   "outputs": [],
   "source": [
    "# Out training loop can now be simplified:\n",
    "\n",
    "def train_epoch(model):\n",
    "    for xb,yb in dl:\n",
    "        calc_grad(xb, yb, model)\n",
    "        opt.step()\n",
    "        opt.zero_grad()"
   ]
  },
  {
   "cell_type": "code",
   "execution_count": null,
   "metadata": {},
   "outputs": [],
   "source": [
    "# Our validation function doesn’t need to change at all:\n",
    "\n",
    "validate_epoch(linear_model)"
   ]
  },
  {
   "cell_type": "code",
   "execution_count": null,
   "metadata": {},
   "outputs": [],
   "source": [
    "# Let’s put our little training loop in a function, to make things simpler:\n",
    "\n",
    "def train_model(model, epochs):\n",
    "    for i in range(epochs):\n",
    "        train_epoch(model)\n",
    "        print(validate_epoch(model), end=' ')"
   ]
  },
  {
   "cell_type": "code",
   "execution_count": null,
   "metadata": {},
   "outputs": [],
   "source": [
    "# The results are the same as in the previous section:\n",
    "\n",
    "train_model(linear_model, 20)"
   ]
  },
  {
   "cell_type": "code",
   "execution_count": null,
   "metadata": {},
   "outputs": [],
   "source": [
    "# fastai provides the SGD class that, by default, does the same thing as our BasicOptim:\n",
    "\n",
    "linear_model = nn.Linear(28*28, 1)\n",
    "opt = SGD(linear_model.parameters(), lr)\n",
    "train_model(linear_model, 20)"
   ]
  },
  {
   "cell_type": "markdown",
   "metadata": {},
   "source": [
    "fastai also provides Learner.fit, which we can use instead of train_model"
   ]
  },
  {
   "cell_type": "code",
   "execution_count": null,
   "metadata": {},
   "outputs": [],
   "source": [
    "# To create a Learner, we first need to create a DataLoaders, by passing in our training and validation DataLoaders:\n",
    "\n",
    "dls = DataLoaders(dl, valid_dl)"
   ]
  },
  {
   "cell_type": "code",
   "execution_count": null,
   "metadata": {},
   "outputs": [],
   "source": [
    "# create a Learner without using an application\n",
    "\n",
    "learn = Learner(dls, nn.Linear(28*28,1), opt_func=SGD, loss_func=mnist_loss, metrics=batch_accuracy)"
   ]
  },
  {
   "cell_type": "code",
   "execution_count": null,
   "metadata": {},
   "outputs": [],
   "source": [
    "# Now we can call fit:\n",
    "\n",
    "learn.fit(10, lr=lr)"
   ]
  },
  {
   "cell_type": "markdown",
   "metadata": {},
   "source": [
    "## Adding a Nonlinearity"
   ]
  },
  {
   "cell_type": "code",
   "execution_count": null,
   "metadata": {},
   "outputs": [],
   "source": [
    "# Here is the entire definition of a basic neural network:\n",
    "\n",
    "def simple_net(xb):\n",
    "    res = xb@w1 + b1\n",
    "    res = res.max(tensor(0.0))\n",
    "    res = res@w2 + b2\n",
    "    return res"
   ]
  },
  {
   "cell_type": "code",
   "execution_count": null,
   "metadata": {},
   "outputs": [],
   "source": [
    "#  w1 has 30 output activations (which means that w2 must have 30 input activations, so they match). \n",
    "w1 = init_params((28*28,30))\n",
    "b1 = init_params(30)\n",
    "w2 = init_params((30,1))\n",
    "b2 = init_params(1)"
   ]
  },
  {
   "cell_type": "code",
   "execution_count": null,
   "metadata": {},
   "outputs": [],
   "source": [
    "# function res.max(tensor(0.0)) is called a rectified linear unit, also known as ReLU\n",
    "\n",
    "plot_function(F.relu)"
   ]
  },
  {
   "cell_type": "markdown",
   "metadata": {},
   "source": [
    "For any arbitrarily wiggly function, we can approximate it as a bunch of lines joined together; to make it closer to the wiggly function, we just have to use shorter lines. This is known as the universal approximation theorem.\n",
    "\n",
    "The three lines of code that we have here are known as layers.\n",
    "\n",
    "The first and third are known as linear layers, and the second line of code is known variously as a nonlinearity, or activation function."
   ]
  },
  {
   "cell_type": "code",
   "execution_count": null,
   "metadata": {},
   "outputs": [],
   "source": [
    "# we can replace this code with something a bit simpler by taking advantage of PyTorch:\n",
    "\n",
    "simple_net = nn.Sequential(\n",
    "    nn.Linear(28*28,30),\n",
    "    nn.ReLU(),\n",
    "    nn.Linear(30,1)\n",
    ")"
   ]
  },
  {
   "cell_type": "code",
   "execution_count": null,
   "metadata": {},
   "outputs": [],
   "source": [
    "# this is a deeper model, we’ll use a lower learning rate and a few more epochs:\n",
    "\n",
    "learn = Learner(dls, simple_net, opt_func=SGD, loss_func=mnist_loss, metrics=batch_accuracy)\n",
    "\n",
    "learn.fit(40,0.1)"
   ]
  },
  {
   "cell_type": "code",
   "execution_count": null,
   "metadata": {},
   "outputs": [],
   "source": [
    "# the training process is recorded in learn.recorder, so we can plot the accuracy over training:\n",
    "\n",
    "plt.plot(L(learn.recorder.values).itemgot(2));"
   ]
  },
  {
   "cell_type": "code",
   "execution_count": null,
   "metadata": {},
   "outputs": [],
   "source": [
    "# And we can view the final accuracy:\n",
    "\n",
    "learn.recorder.values[-1][2]"
   ]
  },
  {
   "cell_type": "markdown",
   "metadata": {},
   "source": [
    "At this point, we have something that is rather magical:\n",
    "- A function that can solve any problem to any level of accuracy (the neural network) given the correct set of parameters\n",
    "- A way to find the best set of parameters for any function (stochastic gradient descent)"
   ]
  },
  {
   "cell_type": "markdown",
   "metadata": {},
   "source": [
    "### Going Deeper"
   ]
  },
  {
   "cell_type": "code",
   "execution_count": null,
   "metadata": {},
   "outputs": [],
   "source": [
    "# Here is what happens when we train an 18-layer model using the same approach we saw in Chapter 1:\n",
    "\n",
    "# dls = ImageDataLoaders.from_folder(path)\n",
    "# learn = cnn_learner(dls, resnet18, pretrained=False, loss_func=F.cross_entropy, metrics=accuracy)\n",
    "# learn.fit_one_cycle(1,0.1)"
   ]
  },
  {
   "cell_type": "code",
   "execution_count": null,
   "metadata": {},
   "outputs": [],
   "source": []
  }
 ],
 "metadata": {
  "kernelspec": {
   "display_name": "Python 3",
   "language": "python",
   "name": "python3"
  },
  "language_info": {
   "codemirror_mode": {
    "name": "ipython",
    "version": 3
   },
   "file_extension": ".py",
   "mimetype": "text/x-python",
   "name": "python",
   "nbconvert_exporter": "python",
   "pygments_lexer": "ipython3",
   "version": "3.8.5"
  }
 },
 "nbformat": 4,
 "nbformat_minor": 4
}
