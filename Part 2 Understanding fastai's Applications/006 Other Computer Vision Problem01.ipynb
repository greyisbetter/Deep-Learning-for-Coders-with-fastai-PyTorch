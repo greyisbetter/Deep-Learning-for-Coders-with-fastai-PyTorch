{
 "cells": [
  {
   "cell_type": "markdown",
   "metadata": {
    "id": "TInlTUnpWpJO"
   },
   "source": [
    "Look two other kinds of computer vision problems:\n",
    "- Multi-label classification\n",
    "  - predict more than one label per image\n",
    "- Regression\n",
    "  - when labels are one or several numbers\n",
    "  - quantity instead of category\n",
    "\n",
    "deep understanding of:\n",
    "- output activations\n",
    "- targets\n",
    "- loss functions"
   ]
  },
  {
   "cell_type": "markdown",
   "metadata": {
    "id": "GzJBKeMFXNdP"
   },
   "source": [
    "## Multi-label Classification\n",
    "refers to the problem of identifying the categories of objects in images that may not contain exactly one type of object. There may be more than one kind of object, or there may be no objects at all in the classes you are looking for.\n",
    "\n",
    "### The Data\n",
    "use the PASCAL dataset, which can have more than one kind of classified object per image"
   ]
  },
  {
   "cell_type": "code",
   "execution_count": 1,
   "metadata": {
    "colab": {
     "base_uri": "https://localhost:8080/",
     "height": 37
    },
    "id": "dnUdybnSyRt6",
    "outputId": "9a73a0e3-ecf7-4a65-a5c3-b9c7ecec8f21"
   },
   "outputs": [
    {
     "data": {
      "text/html": [
       "\n",
       "    <div>\n",
       "        <style>\n",
       "            /* Turns off some styling */\n",
       "            progress {\n",
       "                /* gets rid of default border in Firefox and Opera. */\n",
       "                border: none;\n",
       "                /* Needs to be in here for Safari polyfill so background images work as expected. */\n",
       "                background-size: auto;\n",
       "            }\n",
       "            .progress-bar-interrupted, .progress-bar-interrupted::-webkit-progress-bar {\n",
       "                background: #F44336;\n",
       "            }\n",
       "        </style>\n",
       "      <progress value='1637801984' class='' max='1637796771' style='width:300px; height:20px; vertical-align: middle;'></progress>\n",
       "      100.00% [1637801984/1637796771 00:32<00:00]\n",
       "    </div>\n",
       "    "
      ],
      "text/plain": [
       "<IPython.core.display.HTML object>"
      ]
     },
     "metadata": {},
     "output_type": "display_data"
    }
   ],
   "source": [
    "# downloading and extracting the dataset as per usual:\n",
    "\n",
    "from fastai.vision.all import *\n",
    "path = untar_data(URLs.PASCAL_2007)"
   ]
  },
  {
   "cell_type": "code",
   "execution_count": 2,
   "metadata": {
    "colab": {
     "base_uri": "https://localhost:8080/",
     "height": 206
    },
    "id": "36Xs-yA4cxBl",
    "outputId": "14a4a917-8310-454e-8369-99618643028e"
   },
   "outputs": [
    {
     "data": {
      "text/html": [
       "<div>\n",
       "<style scoped>\n",
       "    .dataframe tbody tr th:only-of-type {\n",
       "        vertical-align: middle;\n",
       "    }\n",
       "\n",
       "    .dataframe tbody tr th {\n",
       "        vertical-align: top;\n",
       "    }\n",
       "\n",
       "    .dataframe thead th {\n",
       "        text-align: right;\n",
       "    }\n",
       "</style>\n",
       "<table border=\"1\" class=\"dataframe\">\n",
       "  <thead>\n",
       "    <tr style=\"text-align: right;\">\n",
       "      <th></th>\n",
       "      <th>fname</th>\n",
       "      <th>labels</th>\n",
       "      <th>is_valid</th>\n",
       "    </tr>\n",
       "  </thead>\n",
       "  <tbody>\n",
       "    <tr>\n",
       "      <th>0</th>\n",
       "      <td>000005.jpg</td>\n",
       "      <td>chair</td>\n",
       "      <td>True</td>\n",
       "    </tr>\n",
       "    <tr>\n",
       "      <th>1</th>\n",
       "      <td>000007.jpg</td>\n",
       "      <td>car</td>\n",
       "      <td>True</td>\n",
       "    </tr>\n",
       "    <tr>\n",
       "      <th>2</th>\n",
       "      <td>000009.jpg</td>\n",
       "      <td>horse person</td>\n",
       "      <td>True</td>\n",
       "    </tr>\n",
       "    <tr>\n",
       "      <th>3</th>\n",
       "      <td>000012.jpg</td>\n",
       "      <td>car</td>\n",
       "      <td>False</td>\n",
       "    </tr>\n",
       "    <tr>\n",
       "      <th>4</th>\n",
       "      <td>000016.jpg</td>\n",
       "      <td>bicycle</td>\n",
       "      <td>True</td>\n",
       "    </tr>\n",
       "  </tbody>\n",
       "</table>\n",
       "</div>"
      ],
      "text/plain": [
       "        fname        labels  is_valid\n",
       "0  000005.jpg         chair      True\n",
       "1  000007.jpg           car      True\n",
       "2  000009.jpg  horse person      True\n",
       "3  000012.jpg           car     False\n",
       "4  000016.jpg       bicycle      True"
      ]
     },
     "execution_count": 2,
     "metadata": {},
     "output_type": "execute_result"
    }
   ],
   "source": [
    "# this dataset comes with a CSV file\n",
    "# inspect the CSV file by reading it into a Pandas DataFrame:\n",
    "\n",
    "df = pd.read_csv(path/'train.csv')\n",
    "df.head()"
   ]
  },
  {
   "cell_type": "markdown",
   "metadata": {
    "id": "xb_1KTTGdko7"
   },
   "source": [
    "#### Pandas and DataFrames\n",
    "The main class is DataFrame, which represents a table of rows and columns.\n",
    "\n",
    "Get a DataFrame from a CSV file, a database table, Python dictionaries.\n",
    "\n",
    "access rows and columns of a DataFrame with the iloc property, as if it were a matrix:"
   ]
  },
  {
   "cell_type": "code",
   "execution_count": 3,
   "metadata": {
    "colab": {
     "base_uri": "https://localhost:8080/"
    },
    "id": "-nnQLyhadRvA",
    "outputId": "083cc25e-d585-4822-8a38-39863a780876"
   },
   "outputs": [
    {
     "data": {
      "text/plain": [
       "0       000005.jpg\n",
       "1       000007.jpg\n",
       "2       000009.jpg\n",
       "3       000012.jpg\n",
       "4       000016.jpg\n",
       "           ...    \n",
       "5006    009954.jpg\n",
       "5007    009955.jpg\n",
       "5008    009958.jpg\n",
       "5009    009959.jpg\n",
       "5010    009961.jpg\n",
       "Name: fname, Length: 5011, dtype: object"
      ]
     },
     "execution_count": 3,
     "metadata": {},
     "output_type": "execute_result"
    }
   ],
   "source": [
    "df.iloc[:,0]"
   ]
  },
  {
   "cell_type": "code",
   "execution_count": 4,
   "metadata": {
    "colab": {
     "base_uri": "https://localhost:8080/"
    },
    "id": "qa77B-aDeEZb",
    "outputId": "0f655f00-7895-44fa-9565-5a1a1b7afbaf"
   },
   "outputs": [
    {
     "data": {
      "text/plain": [
       "fname       000005.jpg\n",
       "labels           chair\n",
       "is_valid          True\n",
       "Name: 0, dtype: object"
      ]
     },
     "execution_count": 4,
     "metadata": {},
     "output_type": "execute_result"
    }
   ],
   "source": [
    "df.iloc[0,:]\n",
    "# Training :s are always optional (in numpy, pytorch, pandas, etc)\n",
    "#   so this is equivalent:\n",
    "df.iloc[0]"
   ]
  },
  {
   "cell_type": "code",
   "execution_count": 5,
   "metadata": {
    "colab": {
     "base_uri": "https://localhost:8080/"
    },
    "id": "5ukAFnrPeWEb",
    "outputId": "b808fbbe-fac9-4578-daae-348a9e5e646d"
   },
   "outputs": [
    {
     "data": {
      "text/plain": [
       "0       000005.jpg\n",
       "1       000007.jpg\n",
       "2       000009.jpg\n",
       "3       000012.jpg\n",
       "4       000016.jpg\n",
       "           ...    \n",
       "5006    009954.jpg\n",
       "5007    009955.jpg\n",
       "5008    009958.jpg\n",
       "5009    009959.jpg\n",
       "5010    009961.jpg\n",
       "Name: fname, Length: 5011, dtype: object"
      ]
     },
     "execution_count": 5,
     "metadata": {},
     "output_type": "execute_result"
    }
   ],
   "source": [
    "# You can also grab a column by name by indexing into a DataFrame directly:\n",
    "\n",
    "df['fname']"
   ]
  },
  {
   "cell_type": "code",
   "execution_count": 6,
   "metadata": {
    "colab": {
     "base_uri": "https://localhost:8080/",
     "height": 174
    },
    "id": "TUz8V167edRY",
    "outputId": "4b572408-7a2f-489c-f35e-8431e9ec3057"
   },
   "outputs": [
    {
     "data": {
      "text/html": [
       "<div>\n",
       "<style scoped>\n",
       "    .dataframe tbody tr th:only-of-type {\n",
       "        vertical-align: middle;\n",
       "    }\n",
       "\n",
       "    .dataframe tbody tr th {\n",
       "        vertical-align: top;\n",
       "    }\n",
       "\n",
       "    .dataframe thead th {\n",
       "        text-align: right;\n",
       "    }\n",
       "</style>\n",
       "<table border=\"1\" class=\"dataframe\">\n",
       "  <thead>\n",
       "    <tr style=\"text-align: right;\">\n",
       "      <th></th>\n",
       "      <th>a</th>\n",
       "    </tr>\n",
       "  </thead>\n",
       "  <tbody>\n",
       "    <tr>\n",
       "      <th>0</th>\n",
       "      <td>1</td>\n",
       "    </tr>\n",
       "    <tr>\n",
       "      <th>1</th>\n",
       "      <td>2</td>\n",
       "    </tr>\n",
       "    <tr>\n",
       "      <th>2</th>\n",
       "      <td>3</td>\n",
       "    </tr>\n",
       "    <tr>\n",
       "      <th>3</th>\n",
       "      <td>4</td>\n",
       "    </tr>\n",
       "  </tbody>\n",
       "</table>\n",
       "</div>"
      ],
      "text/plain": [
       "   a\n",
       "0  1\n",
       "1  2\n",
       "2  3\n",
       "3  4"
      ]
     },
     "execution_count": 6,
     "metadata": {},
     "output_type": "execute_result"
    }
   ],
   "source": [
    "# You can create new columns and do calculations using columns:\n",
    "\n",
    "df1 = pd.DataFrame()\n",
    "df1['a'] = [1,2,3,4]\n",
    "df1"
   ]
  },
  {
   "cell_type": "code",
   "execution_count": 7,
   "metadata": {
    "colab": {
     "base_uri": "https://localhost:8080/"
    },
    "id": "28uojPMhepDG",
    "outputId": "4a26df66-cfea-4f0e-9015-00cf07c36528"
   },
   "outputs": [
    {
     "data": {
      "text/plain": [
       "0    11\n",
       "1    22\n",
       "2    33\n",
       "3    44\n",
       "dtype: int64"
      ]
     },
     "execution_count": 7,
     "metadata": {},
     "output_type": "execute_result"
    }
   ],
   "source": [
    "df1['b'] = [10, 20, 30, 40]\n",
    "df1['a'] + df1['b']"
   ]
  },
  {
   "cell_type": "markdown",
   "metadata": {
    "id": "jZBBZZGjffQY"
   },
   "source": [
    "**make data ready for model training**\n",
    "\n",
    "### Constructing a DataBlock\n",
    "data block API: convert DataFrame to DataLoaders"
   ]
  },
  {
   "cell_type": "code",
   "execution_count": 8,
   "metadata": {
    "id": "ZNHMPTHge4MX"
   },
   "outputs": [],
   "source": [
    "# start with the simplest case, which is a data block created with no parameters:\n",
    "\n",
    "dblock = DataBlock()"
   ]
  },
  {
   "cell_type": "code",
   "execution_count": 9,
   "metadata": {
    "id": "fkL1E_XJhYhj"
   },
   "outputs": [],
   "source": [
    "# create a Datasets object from this using dataframe\n",
    "\n",
    "dsets = dblock.datasets(df)"
   ]
  },
  {
   "cell_type": "code",
   "execution_count": 10,
   "metadata": {
    "colab": {
     "base_uri": "https://localhost:8080/"
    },
    "id": "F-LVGDyphmWW",
    "outputId": "8046a4fb-46a5-4221-ee6b-e847124f7d2c"
   },
   "outputs": [
    {
     "data": {
      "text/plain": [
       "(fname       000304.jpg\n",
       " labels       tvmonitor\n",
       " is_valid          True\n",
       " Name: 150, dtype: object, fname       000304.jpg\n",
       " labels       tvmonitor\n",
       " is_valid          True\n",
       " Name: 150, dtype: object)"
      ]
     },
     "execution_count": 10,
     "metadata": {},
     "output_type": "execute_result"
    }
   ],
   "source": [
    "# This contains a train and a valid dataset, which we can index into:\n",
    "\n",
    "dsets.train[0]"
   ]
  },
  {
   "cell_type": "code",
   "execution_count": 11,
   "metadata": {
    "colab": {
     "base_uri": "https://localhost:8080/"
    },
    "id": "fuDJkSK1hrbf",
    "outputId": "c0b18841-8e6a-4b80-e0c0-acbfc64684b4"
   },
   "outputs": [
    {
     "data": {
      "text/plain": [
       "('004512.jpg', 'dog person chair')"
      ]
     },
     "execution_count": 11,
     "metadata": {},
     "output_type": "execute_result"
    }
   ],
   "source": [
    "# grab the appropriate fields from the DataFrame by passing get_x and get_y functions:\n",
    "\n",
    "dblock = DataBlock(get_x=lambda r: r['fname'], get_y=lambda r: r['labels'])\n",
    "dsets = dblock.datasets(df)\n",
    "dsets.train[0]"
   ]
  },
  {
   "cell_type": "code",
   "execution_count": 12,
   "metadata": {
    "colab": {
     "base_uri": "https://localhost:8080/"
    },
    "id": "ci0XFuZSiMdc",
    "outputId": "e659ba7f-5bd2-4ef7-b790-e365ecac8db0"
   },
   "outputs": [
    {
     "data": {
      "text/plain": [
       "('002172.jpg', 'motorbike person')"
      ]
     },
     "execution_count": 12,
     "metadata": {},
     "output_type": "execute_result"
    }
   ],
   "source": [
    "# The following more verbose approach is identical:\n",
    "\n",
    "def get_x(r): return r['fname']\n",
    "def get_y(r): return r['labels']\n",
    "dblock = DataBlock(get_x=get_x, get_y=get_y)\n",
    "dsets = dblock.datasets(df)\n",
    "dsets.train[0]"
   ]
  },
  {
   "cell_type": "code",
   "execution_count": 13,
   "metadata": {
    "colab": {
     "base_uri": "https://localhost:8080/"
    },
    "id": "s0HaDfP1i-V3",
    "outputId": "f7c67455-ec85-46fc-d038-917bb70afb71"
   },
   "outputs": [
    {
     "data": {
      "text/plain": [
       "(Path('/root/.fastai/data/pascal_2007/train/008381.jpg'), ['person'])"
      ]
     },
     "execution_count": 13,
     "metadata": {},
     "output_type": "execute_result"
    }
   ],
   "source": [
    "# independent var: in complete path, we can open it as an image\n",
    "# dependent var: in list\n",
    "\n",
    "def get_x(r): return path/'train'/r['fname']\n",
    "def get_y(r): return r['labels'].split(' ')\n",
    "dblock = DataBlock(get_x=get_x, get_y=get_y)\n",
    "dsets = dblock.datasets(df)\n",
    "dsets.train[0]"
   ]
  },
  {
   "cell_type": "code",
   "execution_count": 14,
   "metadata": {
    "colab": {
     "base_uri": "https://localhost:8080/"
    },
    "id": "ysQbD3e4jz3y",
    "outputId": "72ad97ac-db3b-4a3b-8bf2-9c629292c3a8"
   },
   "outputs": [
    {
     "data": {
      "text/plain": [
       "(PILImage mode=RGB size=333x500,\n",
       " TensorMultiCategory([0., 0., 0., 0., 0., 0., 1., 0., 0., 0., 0., 0., 0., 0., 1., 0., 0., 0.,\n",
       "         0., 0.]))"
      ]
     },
     "execution_count": 14,
     "metadata": {},
     "output_type": "execute_result"
    }
   ],
   "source": [
    "# open the image and do the conversion to tensors\n",
    "# ImageBlock:a path that points to a valid image\n",
    "# MultiCategoryBlock:multiple labels for each item\n",
    "\n",
    "dblock = DataBlock(blocks=(ImageBlock, MultiCategoryBlock),\n",
    "                   get_x=get_x, get_y=get_y)\n",
    "dsets = dblock.datasets(df)\n",
    "dsets.train[0]"
   ]
  },
  {
   "cell_type": "markdown",
   "metadata": {
    "id": "LyFTiD7BMiy6"
   },
   "source": [
    "Single integer representing which category was present.\n",
    "\n",
    "__one-hot encoding__: list of 0s, with a 1 in any position where that category is present."
   ]
  },
  {
   "cell_type": "code",
   "execution_count": 15,
   "metadata": {
    "colab": {
     "base_uri": "https://localhost:8080/"
    },
    "id": "ccy2yTvRnik3",
    "outputId": "2a169369-4d7f-431d-e52b-cc4ba386f774"
   },
   "outputs": [
    {
     "data": {
      "text/plain": [
       "(#2) ['car','person']"
      ]
     },
     "execution_count": 15,
     "metadata": {},
     "output_type": "execute_result"
    }
   ],
   "source": [
    "# check what the categories represent for this example:\n",
    "\n",
    "idxs = torch.where(dsets.train[0][1]==1.)[0]\n",
    "dsets.train.vocab[idxs]"
   ]
  },
  {
   "cell_type": "markdown",
   "metadata": {
    "id": "Q1tqZmfqPAso"
   },
   "source": [
    "is_valid column is ignored means DataBlock using a random split by default.\n",
    "\n",
    "To choose the elements of out validation set, need to write a function and pass it to splitter."
   ]
  },
  {
   "cell_type": "code",
   "execution_count": 16,
   "metadata": {
    "id": "n74I39LWODFd"
   },
   "outputs": [],
   "source": [
    "# take the item(DataFrame) return two(or more) list of integers:\n",
    "\n",
    "def splitter(df):\n",
    "  train = df.index[~df['is_valid']].tolist()\n",
    "  valid = df.index[df['is_valid']].tolist()\n",
    "  return train,valid"
   ]
  },
  {
   "cell_type": "code",
   "execution_count": 17,
   "metadata": {
    "colab": {
     "base_uri": "https://localhost:8080/"
    },
    "id": "HKzP8xgCRsjt",
    "outputId": "7192d550-4bf3-4232-d9bd-d25c609bc883"
   },
   "outputs": [
    {
     "data": {
      "text/plain": [
       "(PILImage mode=RGB size=500x333,\n",
       " TensorMultiCategory([0., 0., 0., 0., 0., 0., 1., 0., 0., 0., 0., 0., 0., 0., 0., 0., 0., 0.,\n",
       "         0., 0.]))"
      ]
     },
     "execution_count": 17,
     "metadata": {},
     "output_type": "execute_result"
    }
   ],
   "source": [
    "dblock = DataBlock(blocks=(ImageBlock, MultiCategoryBlock),\n",
    "                   splitter=splitter,\n",
    "                   get_x=get_x,\n",
    "                   get_y=get_y)\n",
    "\n",
    "dsets = dblock.datasets(df)\n",
    "dsets.train[0]"
   ]
  },
  {
   "cell_type": "code",
   "execution_count": 27,
   "metadata": {
    "id": "7M5Rudu7SD2U"
   },
   "outputs": [],
   "source": [
    "# create our DataLoaders\n",
    "# which ensure that every item is of the same size(using RandomResizedCrop):\n",
    "\n",
    "dlblock = DataBlock(blocks=(ImageBlock, MultiCategoryBlock),\n",
    "                    splitter=splitter,\n",
    "                    get_x=get_x,\n",
    "                    get_y=get_y,\n",
    "                    item_tfms = RandomResizedCrop(128, min_scale=0.35))\n",
    "\n",
    "dls = dblock.dataloaders(df)"
   ]
  },
  {
   "cell_type": "code",
   "execution_count": 28,
   "metadata": {
    "colab": {
     "base_uri": "https://localhost:8080/",
     "height": 195
    },
    "id": "zYK7RrM3WHy8",
    "outputId": "42c27690-b93c-483f-92f1-5273ee29b22d"
   },
   "outputs": [
    {
     "data": {
      "image/png": "[encoded data removed]",
      "text/plain": [
       "<Figure size 648x216 with 3 Axes>"
      ]
     },
     "metadata": {
      "needs_background": "light"
     },
     "output_type": "display_data"
    }
   ],
   "source": [
    "# display a sample of data:\n",
    "\n",
    "dls.show_batch(nrows=1, ncols=3)"
   ]
  },
  {
   "cell_type": "markdown",
   "metadata": {
    "id": "kiyR1g62YVoL"
   },
   "source": [
    "## Binary Cross Entropy\n",
    "Learner\n",
    "  - the model : leverage fastai's resnet\n",
    "  - a DataLoaders object : dls\n",
    "  - an Optimizer : SGD optimizer\n",
    "  - the loss function : now ensure we have a suitable loss fn\n",
    "\n"
   ]
  },
  {
   "cell_type": "code",
   "execution_count": 29,
   "metadata": {
    "id": "IOCa_DACWQBq"
   },
   "outputs": [],
   "source": [
    "# use cnn_learner to create a Learner, so we can look at its activations:\n",
    "\n",
    "learn = cnn_learner(dls, resnet18)"
   ]
  },
  {
   "cell_type": "markdown",
   "metadata": {
    "id": "0ltrY5KBap5-"
   },
   "source": [
    "model in a Learner: an object of a class inheriting from nn.Module, returns activations of a model."
   ]
  },
  {
   "cell_type": "code",
   "execution_count": 38,
   "metadata": {
    "colab": {
     "base_uri": "https://localhost:8080/"
    },
    "id": "5hUlLLQdZ0fo",
    "outputId": "5f3c6465-021f-461a-dd3e-89e7426d0f89"
   },
   "outputs": [
    {
     "data": {
      "text/plain": [
       "torch.Size([64, 20])"
      ]
     },
     "execution_count": 38,
     "metadata": {},
     "output_type": "execute_result"
    }
   ],
   "source": [
    "# grab a mini-batch from our DataLoader and then passing it to the model:\n",
    "learn.model.cuda()\n",
    "x,y = dls.train.one_batch()\n",
    "activs = learn.model(x)\n",
    "activs.shape"
   ]
  },
  {
   "cell_type": "markdown",
   "metadata": {
    "id": "otlQdmTFbYni"
   },
   "source": [
    "activation shape\n",
    "  - batch of 64\n",
    "  - calculate the probability of each of 20 categories"
   ]
  },
  {
   "cell_type": "code",
   "execution_count": 39,
   "metadata": {
    "colab": {
     "base_uri": "https://localhost:8080/"
    },
    "id": "Du98D_4RbI3P",
    "outputId": "9ade912f-4861-4a39-9f1a-2152e6df2709"
   },
   "outputs": [
    {
     "data": {
      "text/plain": [
       "TensorBase([-4.2942, -4.8542, -4.1478, -5.0459, -5.3384, -4.2402, -4.1978, -3.1607,\n",
       "         3.2762, -4.5998,  0.2574, -3.3869, -3.3886, -4.9158, -2.2373,  0.3927,\n",
       "        -5.3183, -0.3745, -4.7047, -2.3530], device='cuda:0',\n",
       "       grad_fn=<AliasBackward0>)"
      ]
     },
     "execution_count": 39,
     "metadata": {},
     "output_type": "execute_result"
    }
   ],
   "source": [
    "activs[0]"
   ]
  },
  {
   "cell_type": "markdown",
   "metadata": {
    "id": "clFxQQ3_cG9a"
   },
   "source": [
    "- using sigmoid fn: scale to bet 0 and 1\n",
    "- loss fn: calculate a loss based on this\n",
    "- log"
   ]
  },
  {
   "cell_type": "code",
   "execution_count": 31,
   "metadata": {
    "id": "IvfsWkkpbkAa"
   },
   "outputs": [],
   "source": [
    "def binary_cross_entropy(inputs, targets):\n",
    "    inputs = inputs.sigmoid()\n",
    "    return -torch.where(targets==1, inputs, 1-inputs).log().mean()"
   ]
  },
  {
   "cell_type": "markdown",
   "metadata": {
    "id": "OPZPtn4pdO74"
   },
   "source": [
    "Because we have a one-hot-encoded dependent variable, can't directly use nll_loss or softmax (therefore we can't use cross_entropy)\n",
    "\n",
    "binary_cross_entropy = mnist_loss along with log\n",
    "\n",
    "Each activations will be campared to each target for each column, so we don't have to do anything to make this fn work for multiple columns"
   ]
  },
  {
   "cell_type": "markdown",
   "metadata": {
    "id": "auvpacXKkNIU"
   },
   "source": [
    "PyTorch already provides this function:\n",
    "- F.binary_cross_entropy and its module equivalent nn.BCELoss: calculate cross entropy on a one-hot-encoded target, not include the initial sigmoid.\n",
    "- F.binary_cross_entropy_with_logits(or nn.BCEWithLogitsLoss), which do both sigmoid and binary cross entropy"
   ]
  },
  {
   "cell_type": "code",
   "execution_count": 40,
   "metadata": {
    "colab": {
     "base_uri": "https://localhost:8080/"
    },
    "id": "nb7hs_XHc9Tj",
    "outputId": "d643b10f-be04-44b8-dcef-a9bc01a83629"
   },
   "outputs": [
    {
     "data": {
      "text/plain": [
       "TensorMultiCategory(0.0782, device='cuda:0', grad_fn=<AliasBackward0>)"
      ]
     },
     "execution_count": 40,
     "metadata": {},
     "output_type": "execute_result"
    }
   ],
   "source": [
    "# for one-hot-encoded target, use BCEWithLogitsLoss:\n",
    "\n",
    "loss_func = nn.BCEWithLogitsLoss()\n",
    "loss = loss_func(activs, y)\n",
    "loss"
   ]
  },
  {
   "cell_type": "markdown",
   "metadata": {
    "id": "Xs8UfKvTnDIb"
   },
   "source": [
    "fastai knows that the DataLoaders has multiple category labels, so it will use nn.BCEWithLogitsLoss by default"
   ]
  },
  {
   "cell_type": "code",
   "execution_count": 33,
   "metadata": {
    "id": "rO7nVxBFlTVd"
   },
   "outputs": [],
   "source": [
    "# can't use accuracy fn: it comparing our outputs to our targets like so:\n",
    "\n",
    "def accuracy(inp, targ, axis=-1):\n",
    "    \"Compute accuracy with `targ` when `pred` is bs * n_classes\"\n",
    "    pred = inp.argmax(dim=axis)\n",
    "    return (pred == targ).float().mean()"
   ]
  },
  {
   "cell_type": "markdown",
   "metadata": {
    "id": "1Iy7g9F-q3Wl"
   },
   "source": [
    "after appyling sigmoid to our activations, need to decide which ones are 0s and which ones are 1s by picking threshold.\n",
    "- value > threshold: 1\n",
    "- value < threshold: 0 "
   ]
  },
  {
   "cell_type": "code",
   "execution_count": 34,
   "metadata": {
    "id": "XwLXpfQZqn6n"
   },
   "outputs": [],
   "source": [
    "def accuracy_multi(inp, targ, thresh=0.5, sigmoid=True):\n",
    "    \"Compute accuracy when `inp` and `targ` are the same size.\"\n",
    "    if sigmoid: inp = inp.sigmoid()\n",
    "    return ((inp>thresh)==targ.bool()).float().mean()"
   ]
  },
  {
   "cell_type": "code",
   "execution_count": 35,
   "metadata": {
    "colab": {
     "base_uri": "https://localhost:8080/"
    },
    "id": "_GqoMCZuriY1",
    "outputId": "6a640661-617e-4455-fde3-ecd3aa815871"
   },
   "outputs": [
    {
     "data": {
      "text/plain": [
       "('Hello Jeremy.', 'Ahoy! Jeremy.')"
      ]
     },
     "execution_count": 35,
     "metadata": {},
     "output_type": "execute_result"
    }
   ],
   "source": [
    "# adjust that default and create a new version of accuracy_multi that has a different default\n",
    "# use python func called partial:\n",
    "\n",
    "def say_hello(name, say_what=\"Hello\"): return f\"{say_what} {name}.\"\n",
    "say_hello('Jeremy'),say_hello('Jeremy', 'Ahoy!')"
   ]
  },
  {
   "cell_type": "code",
   "execution_count": 36,
   "metadata": {
    "colab": {
     "base_uri": "https://localhost:8080/"
    },
    "id": "K6BqnGnVv--E",
    "outputId": "232ea6b6-e848-4b24-dc18-06dccc6009d5"
   },
   "outputs": [
    {
     "data": {
      "text/plain": [
       "('Bonjour Jeremy.', 'Bonjour Sylvain.')"
      ]
     },
     "execution_count": 36,
     "metadata": {},
     "output_type": "execute_result"
    }
   ],
   "source": [
    "# switch to a French version of that function by using partial:\n",
    "f = partial(say_hello, say_what=\"Bonjour\")\n",
    "f(\"Jeremy\"),f(\"Sylvain\")"
   ]
  },
  {
   "cell_type": "code",
   "execution_count": 37,
   "metadata": {
    "colab": {
     "base_uri": "https://localhost:8080/",
     "height": 350,
     "referenced_widgets": [
      "bcf5021c23f84557bd2939cbde18beb4",
      "ca3e7ad6c548455a88a146fe7f0a9863",
      "57485d2e8e654533b8d4d3d4e185bf01",
      "fabcec5eacce4541b3cccaae3707e8a3",
      "180f0bd81fc842c197e711e56248b57b",
      "81c2b500705a422c96acdbd86be5825b",
      "1763e9f5da3d4378a39b1d5099d362d1",
      "7798aa7a47a446499592e4efaafc2d33",
      "29e43e09d7ce49b1a28343125d3f2116",
      "e8ee63dc1adf427cac88d1ea85bdb5e8",
      "05c47f939bcd4536bbc788f817807db6"
     ]
    },
    "id": "uQXQmEDuwQ2J",
    "outputId": "82c8af64-dd79-47fa-833f-f8396fa2c37d"
   },
   "outputs": [
    {
     "name": "stderr",
     "output_type": "stream",
     "text": [
      "Downloading: \"https://download.pytorch.org/models/resnet50-0676ba61.pth\" to /root/.cache/torch/hub/checkpoints/resnet50-0676ba61.pth\n"
     ]
    },
    {
     "data": {
      "application/vnd.jupyter.widget-view+json": {
       "model_id": "bcf5021c23f84557bd2939cbde18beb4",
       "version_major": 2,
       "version_minor": 0
      },
      "text/plain": [
       "  0%|          | 0.00/97.8M [00:00<?, ?B/s]"
      ]
     },
     "metadata": {},
     "output_type": "display_data"
    },
    {
     "data": {
      "text/html": [
       "<table border=\"1\" class=\"dataframe\">\n",
       "  <thead>\n",
       "    <tr style=\"text-align: left;\">\n",
       "      <th>epoch</th>\n",
       "      <th>train_loss</th>\n",
       "      <th>valid_loss</th>\n",
       "      <th>accuracy_multi</th>\n",
       "      <th>time</th>\n",
       "    </tr>\n",
       "  </thead>\n",
       "  <tbody>\n",
       "    <tr>\n",
       "      <td>0</td>\n",
       "      <td>0.947220</td>\n",
       "      <td>0.696618</td>\n",
       "      <td>0.243048</td>\n",
       "      <td>00:45</td>\n",
       "    </tr>\n",
       "    <tr>\n",
       "      <td>1</td>\n",
       "      <td>0.825027</td>\n",
       "      <td>0.562320</td>\n",
       "      <td>0.287968</td>\n",
       "      <td>00:41</td>\n",
       "    </tr>\n",
       "    <tr>\n",
       "      <td>2</td>\n",
       "      <td>0.609173</td>\n",
       "      <td>0.201190</td>\n",
       "      <td>0.824143</td>\n",
       "      <td>00:40</td>\n",
       "    </tr>\n",
       "    <tr>\n",
       "      <td>3</td>\n",
       "      <td>0.362590</td>\n",
       "      <td>0.126961</td>\n",
       "      <td>0.938665</td>\n",
       "      <td>00:41</td>\n",
       "    </tr>\n",
       "  </tbody>\n",
       "</table>"
      ],
      "text/plain": [
       "<IPython.core.display.HTML object>"
      ]
     },
     "metadata": {},
     "output_type": "display_data"
    },
    {
     "data": {
      "text/html": [
       "<table border=\"1\" class=\"dataframe\">\n",
       "  <thead>\n",
       "    <tr style=\"text-align: left;\">\n",
       "      <th>epoch</th>\n",
       "      <th>train_loss</th>\n",
       "      <th>valid_loss</th>\n",
       "      <th>accuracy_multi</th>\n",
       "      <th>time</th>\n",
       "    </tr>\n",
       "  </thead>\n",
       "  <tbody>\n",
       "    <tr>\n",
       "      <td>0</td>\n",
       "      <td>0.133567</td>\n",
       "      <td>0.114765</td>\n",
       "      <td>0.944741</td>\n",
       "      <td>00:48</td>\n",
       "    </tr>\n",
       "    <tr>\n",
       "      <td>1</td>\n",
       "      <td>0.118236</td>\n",
       "      <td>0.110819</td>\n",
       "      <td>0.946016</td>\n",
       "      <td>00:46</td>\n",
       "    </tr>\n",
       "    <tr>\n",
       "      <td>2</td>\n",
       "      <td>0.098535</td>\n",
       "      <td>0.105993</td>\n",
       "      <td>0.952490</td>\n",
       "      <td>00:46</td>\n",
       "    </tr>\n",
       "  </tbody>\n",
       "</table>"
      ],
      "text/plain": [
       "<IPython.core.display.HTML object>"
      ]
     },
     "metadata": {},
     "output_type": "display_data"
    }
   ],
   "source": [
    "# train our model\n",
    "# setting the accuracy threshold to 0.2 for our metric:\n",
    "\n",
    "learn = cnn_learner(dls, resnet50, metrics=partial(accuracy_multi, thresh=0.2))\n",
    "learn.fine_tune(3, base_lr=3e-3, freeze_epochs=4)"
   ]
  },
  {
   "cell_type": "markdown",
   "metadata": {
    "id": "cU0_vq8B1Z6J"
   },
   "source": [
    "Picking threshold too low: failing to select correctly labeled objects"
   ]
  },
  {
   "cell_type": "code",
   "execution_count": 41,
   "metadata": {
    "colab": {
     "base_uri": "https://localhost:8080/",
     "height": 34
    },
    "id": "QeX25cDDzsRF",
    "outputId": "72a24f03-3f72-4d9c-9eef-9e7e944b63a9"
   },
   "outputs": [
    {
     "data": {
      "text/html": [],
      "text/plain": [
       "<IPython.core.display.HTML object>"
      ]
     },
     "metadata": {},
     "output_type": "display_data"
    },
    {
     "data": {
      "text/plain": [
       "(#2) [0.10599251836538315,0.9330279231071472]"
      ]
     },
     "execution_count": 41,
     "metadata": {},
     "output_type": "execute_result"
    }
   ],
   "source": [
    "# changing our metric and then calling validate\n",
    "# return the validation loss and metrics:\n",
    "\n",
    "learn.metrics = partial(accuracy_multi, thresh=0.1)\n",
    "learn.validate()"
   ]
  },
  {
   "cell_type": "markdown",
   "metadata": {
    "id": "9UiMtAQA1jNP"
   },
   "source": [
    "Pick a threshold that's too high, selecting only objects that the model is very confident"
   ]
  },
  {
   "cell_type": "code",
   "execution_count": 42,
   "metadata": {
    "colab": {
     "base_uri": "https://localhost:8080/",
     "height": 34
    },
    "id": "M7zx1-VR1W0o",
    "outputId": "40002d2c-0333-416a-814b-0735b176f7ca"
   },
   "outputs": [
    {
     "data": {
      "text/html": [],
      "text/plain": [
       "<IPython.core.display.HTML object>"
      ]
     },
     "metadata": {},
     "output_type": "display_data"
    },
    {
     "data": {
      "text/plain": [
       "(#2) [0.10599251836538315,0.9436455368995667]"
      ]
     },
     "execution_count": 42,
     "metadata": {},
     "output_type": "execute_result"
    }
   ],
   "source": [
    "learn.metrics = partial(accuracy_multi, thresh=0.99)\n",
    "learn.validate()"
   ]
  },
  {
   "cell_type": "markdown",
   "metadata": {
    "id": "Mr1D1zuQ2E0I"
   },
   "source": [
    "Find the best threshold by trying a few levels and seeing what works best"
   ]
  },
  {
   "cell_type": "code",
   "execution_count": 43,
   "metadata": {
    "colab": {
     "base_uri": "https://localhost:8080/",
     "height": 17
    },
    "id": "arC_Z9d017W5",
    "outputId": "6e1e9996-1597-4182-8b97-29a7bc0cb97a"
   },
   "outputs": [
    {
     "data": {
      "text/html": [],
      "text/plain": [
       "<IPython.core.display.HTML object>"
      ]
     },
     "metadata": {},
     "output_type": "display_data"
    }
   ],
   "source": [
    "# this is much faster if we grabe the predictions just once:\n",
    "preds, targs = learn.get_preds()"
   ]
  },
  {
   "cell_type": "code",
   "execution_count": 44,
   "metadata": {
    "colab": {
     "base_uri": "https://localhost:8080/"
    },
    "id": "ZrBg6u1X2U37",
    "outputId": "68445966-067b-40cf-94eb-f02221d250fa"
   },
   "outputs": [
    {
     "data": {
      "text/plain": [
       "TensorMultiCategory(0.9559)"
      ]
     },
     "execution_count": 44,
     "metadata": {},
     "output_type": "execute_result"
    }
   ],
   "source": [
    "# call the metric directly\n",
    "# tell accuracy_multi to not apply o/p activation fn(sigmoid)\n",
    "accuracy_multi(preds, targs, thresh=0.9, sigmoid=False)"
   ]
  },
  {
   "cell_type": "code",
   "execution_count": 45,
   "metadata": {
    "colab": {
     "base_uri": "https://localhost:8080/",
     "height": 265
    },
    "id": "1WNsRgMn27LO",
    "outputId": "d1a685fa-8f00-4b00-cf11-c8ca9f2c2de8"
   },
   "outputs": [
    {
     "data": {
      "image/png": "[encoded data removed]",
      "text/plain": [
       "<Figure size 432x288 with 1 Axes>"
      ]
     },
     "metadata": {
      "needs_background": "light"
     },
     "output_type": "display_data"
    }
   ],
   "source": [
    "# use this approach to find the best threshold level:\n",
    "\n",
    "xs = torch.linspace(0.05,0.95,29)\n",
    "accs = [accuracy_multi(preds, targs, thresh=i, sigmoid=False) for i in xs]\n",
    "plt.plot(xs, accs);"
   ]
  },
  {
   "cell_type": "code",
   "execution_count": null,
   "metadata": {
    "id": "Yun8XpK53VCQ"
   },
   "outputs": [],
   "source": []
  }
 ],
 "metadata": {
  "accelerator": "GPU",
  "colab": {
   "name": "006:OtherComputerVisionProblem01.ipynb",
   "provenance": []
  },
  "kernelspec": {
   "display_name": "Python 3",
   "language": "python",
   "name": "python3"
  },
  "language_info": {
   "codemirror_mode": {
    "name": "ipython",
    "version": 3
   },
   "file_extension": ".py",
   "mimetype": "text/x-python",
   "name": "python",
   "nbconvert_exporter": "python",
   "pygments_lexer": "ipython3",
   "version": "3.8.5"
  },
  "widgets": {
   "application/vnd.jupyter.widget-state+json": {
    "05c47f939bcd4536bbc788f817807db6": {
     "model_module": "@jupyter-widgets/base",
     "model_module_version": "1.2.0",
     "model_name": "LayoutModel",
     "state": {
      "_model_module": "@jupyter-widgets/base",
      "_model_module_version": "1.2.0",
      "_model_name": "LayoutModel",
      "_view_count": null,
      "_view_module": "@jupyter-widgets/base",
      "_view_module_version": "1.2.0",
      "_view_name": "LayoutView",
      "align_content": null,
      "align_items": null,
      "align_self": null,
      "border": null,
      "bottom": null,
      "display": null,
      "flex": null,
      "flex_flow": null,
      "grid_area": null,
      "grid_auto_columns": null,
      "grid_auto_flow": null,
      "grid_auto_rows": null,
      "grid_column": null,
      "grid_gap": null,
      "grid_row": null,
      "grid_template_areas": null,
      "grid_template_columns": null,
      "grid_template_rows": null,
      "height": null,
      "justify_content": null,
      "justify_items": null,
      "left": null,
      "margin": null,
      "max_height": null,
      "max_width": null,
      "min_height": null,
      "min_width": null,
      "object_fit": null,
      "object_position": null,
      "order": null,
      "overflow": null,
      "overflow_x": null,
      "overflow_y": null,
      "padding": null,
      "right": null,
      "top": null,
      "visibility": null,
      "width": null
     }
    },
    "1763e9f5da3d4378a39b1d5099d362d1": {
     "model_module": "@jupyter-widgets/base",
     "model_module_version": "1.2.0",
     "model_name": "LayoutModel",
     "state": {
      "_model_module": "@jupyter-widgets/base",
      "_model_module_version": "1.2.0",
      "_model_name": "LayoutModel",
      "_view_count": null,
      "_view_module": "@jupyter-widgets/base",
      "_view_module_version": "1.2.0",
      "_view_name": "LayoutView",
      "align_content": null,
      "align_items": null,
      "align_self": null,
      "border": null,
      "bottom": null,
      "display": null,
      "flex": null,
      "flex_flow": null,
      "grid_area": null,
      "grid_auto_columns": null,
      "grid_auto_flow": null,
      "grid_auto_rows": null,
      "grid_column": null,
      "grid_gap": null,
      "grid_row": null,
      "grid_template_areas": null,
      "grid_template_columns": null,
      "grid_template_rows": null,
      "height": null,
      "justify_content": null,
      "justify_items": null,
      "left": null,
      "margin": null,
      "max_height": null,
      "max_width": null,
      "min_height": null,
      "min_width": null,
      "object_fit": null,
      "object_position": null,
      "order": null,
      "overflow": null,
      "overflow_x": null,
      "overflow_y": null,
      "padding": null,
      "right": null,
      "top": null,
      "visibility": null,
      "width": null
     }
    },
    "180f0bd81fc842c197e711e56248b57b": {
     "model_module": "@jupyter-widgets/controls",
     "model_module_version": "1.5.0",
     "model_name": "HTMLModel",
     "state": {
      "_dom_classes": [],
      "_model_module": "@jupyter-widgets/controls",
      "_model_module_version": "1.5.0",
      "_model_name": "HTMLModel",
      "_view_count": null,
      "_view_module": "@jupyter-widgets/controls",
      "_view_module_version": "1.5.0",
      "_view_name": "HTMLView",
      "description": "",
      "description_tooltip": null,
      "layout": "IPY_MODEL_05c47f939bcd4536bbc788f817807db6",
      "placeholder": "​",
      "style": "IPY_MODEL_e8ee63dc1adf427cac88d1ea85bdb5e8",
      "value": " 97.8M/97.8M [00:00&lt;00:00, 117MB/s]"
     }
    },
    "29e43e09d7ce49b1a28343125d3f2116": {
     "model_module": "@jupyter-widgets/base",
     "model_module_version": "1.2.0",
     "model_name": "LayoutModel",
     "state": {
      "_model_module": "@jupyter-widgets/base",
      "_model_module_version": "1.2.0",
      "_model_name": "LayoutModel",
      "_view_count": null,
      "_view_module": "@jupyter-widgets/base",
      "_view_module_version": "1.2.0",
      "_view_name": "LayoutView",
      "align_content": null,
      "align_items": null,
      "align_self": null,
      "border": null,
      "bottom": null,
      "display": null,
      "flex": null,
      "flex_flow": null,
      "grid_area": null,
      "grid_auto_columns": null,
      "grid_auto_flow": null,
      "grid_auto_rows": null,
      "grid_column": null,
      "grid_gap": null,
      "grid_row": null,
      "grid_template_areas": null,
      "grid_template_columns": null,
      "grid_template_rows": null,
      "height": null,
      "justify_content": null,
      "justify_items": null,
      "left": null,
      "margin": null,
      "max_height": null,
      "max_width": null,
      "min_height": null,
      "min_width": null,
      "object_fit": null,
      "object_position": null,
      "order": null,
      "overflow": null,
      "overflow_x": null,
      "overflow_y": null,
      "padding": null,
      "right": null,
      "top": null,
      "visibility": null,
      "width": null
     }
    },
    "57485d2e8e654533b8d4d3d4e185bf01": {
     "model_module": "@jupyter-widgets/controls",
     "model_module_version": "1.5.0",
     "model_name": "HTMLModel",
     "state": {
      "_dom_classes": [],
      "_model_module": "@jupyter-widgets/controls",
      "_model_module_version": "1.5.0",
      "_model_name": "HTMLModel",
      "_view_count": null,
      "_view_module": "@jupyter-widgets/controls",
      "_view_module_version": "1.5.0",
      "_view_name": "HTMLView",
      "description": "",
      "description_tooltip": null,
      "layout": "IPY_MODEL_1763e9f5da3d4378a39b1d5099d362d1",
      "placeholder": "​",
      "style": "IPY_MODEL_81c2b500705a422c96acdbd86be5825b",
      "value": "100%"
     }
    },
    "7798aa7a47a446499592e4efaafc2d33": {
     "model_module": "@jupyter-widgets/controls",
     "model_module_version": "1.5.0",
     "model_name": "ProgressStyleModel",
     "state": {
      "_model_module": "@jupyter-widgets/controls",
      "_model_module_version": "1.5.0",
      "_model_name": "ProgressStyleModel",
      "_view_count": null,
      "_view_module": "@jupyter-widgets/base",
      "_view_module_version": "1.2.0",
      "_view_name": "StyleView",
      "bar_color": null,
      "description_width": ""
     }
    },
    "81c2b500705a422c96acdbd86be5825b": {
     "model_module": "@jupyter-widgets/controls",
     "model_module_version": "1.5.0",
     "model_name": "DescriptionStyleModel",
     "state": {
      "_model_module": "@jupyter-widgets/controls",
      "_model_module_version": "1.5.0",
      "_model_name": "DescriptionStyleModel",
      "_view_count": null,
      "_view_module": "@jupyter-widgets/base",
      "_view_module_version": "1.2.0",
      "_view_name": "StyleView",
      "description_width": ""
     }
    },
    "bcf5021c23f84557bd2939cbde18beb4": {
     "model_module": "@jupyter-widgets/controls",
     "model_module_version": "1.5.0",
     "model_name": "HBoxModel",
     "state": {
      "_dom_classes": [],
      "_model_module": "@jupyter-widgets/controls",
      "_model_module_version": "1.5.0",
      "_model_name": "HBoxModel",
      "_view_count": null,
      "_view_module": "@jupyter-widgets/controls",
      "_view_module_version": "1.5.0",
      "_view_name": "HBoxView",
      "box_style": "",
      "children": [
       "IPY_MODEL_57485d2e8e654533b8d4d3d4e185bf01",
       "IPY_MODEL_fabcec5eacce4541b3cccaae3707e8a3",
       "IPY_MODEL_180f0bd81fc842c197e711e56248b57b"
      ],
      "layout": "IPY_MODEL_ca3e7ad6c548455a88a146fe7f0a9863"
     }
    },
    "ca3e7ad6c548455a88a146fe7f0a9863": {
     "model_module": "@jupyter-widgets/base",
     "model_module_version": "1.2.0",
     "model_name": "LayoutModel",
     "state": {
      "_model_module": "@jupyter-widgets/base",
      "_model_module_version": "1.2.0",
      "_model_name": "LayoutModel",
      "_view_count": null,
      "_view_module": "@jupyter-widgets/base",
      "_view_module_version": "1.2.0",
      "_view_name": "LayoutView",
      "align_content": null,
      "align_items": null,
      "align_self": null,
      "border": null,
      "bottom": null,
      "display": null,
      "flex": null,
      "flex_flow": null,
      "grid_area": null,
      "grid_auto_columns": null,
      "grid_auto_flow": null,
      "grid_auto_rows": null,
      "grid_column": null,
      "grid_gap": null,
      "grid_row": null,
      "grid_template_areas": null,
      "grid_template_columns": null,
      "grid_template_rows": null,
      "height": null,
      "justify_content": null,
      "justify_items": null,
      "left": null,
      "margin": null,
      "max_height": null,
      "max_width": null,
      "min_height": null,
      "min_width": null,
      "object_fit": null,
      "object_position": null,
      "order": null,
      "overflow": null,
      "overflow_x": null,
      "overflow_y": null,
      "padding": null,
      "right": null,
      "top": null,
      "visibility": null,
      "width": null
     }
    },
    "e8ee63dc1adf427cac88d1ea85bdb5e8": {
     "model_module": "@jupyter-widgets/controls",
     "model_module_version": "1.5.0",
     "model_name": "DescriptionStyleModel",
     "state": {
      "_model_module": "@jupyter-widgets/controls",
      "_model_module_version": "1.5.0",
      "_model_name": "DescriptionStyleModel",
      "_view_count": null,
      "_view_module": "@jupyter-widgets/base",
      "_view_module_version": "1.2.0",
      "_view_name": "StyleView",
      "description_width": ""
     }
    },
    "fabcec5eacce4541b3cccaae3707e8a3": {
     "model_module": "@jupyter-widgets/controls",
     "model_module_version": "1.5.0",
     "model_name": "FloatProgressModel",
     "state": {
      "_dom_classes": [],
      "_model_module": "@jupyter-widgets/controls",
      "_model_module_version": "1.5.0",
      "_model_name": "FloatProgressModel",
      "_view_count": null,
      "_view_module": "@jupyter-widgets/controls",
      "_view_module_version": "1.5.0",
      "_view_name": "ProgressView",
      "bar_style": "success",
      "description": "",
      "description_tooltip": null,
      "layout": "IPY_MODEL_29e43e09d7ce49b1a28343125d3f2116",
      "max": 102530333,
      "min": 0,
      "orientation": "horizontal",
      "style": "IPY_MODEL_7798aa7a47a446499592e4efaafc2d33",
      "value": 102530333
     }
    }
   }
  }
 },
 "nbformat": 4,
 "nbformat_minor": 1
}
